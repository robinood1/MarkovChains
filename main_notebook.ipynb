{
 "cells": [
  {
   "cell_type": "markdown",
   "metadata": {},
   "source": [
    "<h1><center>Markov Chains Project</center></h1>\n",
    "<h2><center>Team JLRCactus</center></h2>"
   ]
  },
  {
   "cell_type": "markdown",
   "metadata": {},
   "source": [
    "## Imports ##"
   ]
  },
  {
   "cell_type": "code",
   "execution_count": 90,
   "metadata": {
    "collapsed": true
   },
   "outputs": [],
   "source": [
    "import numpy as np\n",
    "import matplotlib.pyplot as plt\n",
    "import sys as sys"
   ]
  },
  {
   "cell_type": "markdown",
   "metadata": {},
   "source": [
    "## Main ##"
   ]
  },
  {
   "cell_type": "markdown",
   "metadata": {},
   "source": [
    "### Variables ###"
   ]
  },
  {
   "cell_type": "code",
   "execution_count": 106,
   "metadata": {},
   "outputs": [],
   "source": [
    "# Values of dimensions n and m\n",
    "n = 10\n",
    "m = 10\n",
    "\n",
    "# Initial random vector\n",
    "x0 = np.random.randint(low=0, high=2, size=n)*2-1 # A random array of -1 and +1\n",
    "\n",
    "# To be found vector\n",
    "X = np.random.randint(low=0, high=2, size=n)*2-1 # A random array of -1 and +1 \n",
    "\n",
    "# Known matrix W\n",
    "W = np.random.normal(loc=0, scale=1, size=[m,n]) # W ~ N(0,1)\n",
    "\n",
    "beta0 = 0.5"
   ]
  },
  {
   "cell_type": "markdown",
   "metadata": {},
   "source": [
    "### Run ###"
   ]
  },
  {
   "cell_type": "markdown",
   "metadata": {},
   "source": [
    "## Tools ##"
   ]
  },
  {
   "cell_type": "code",
   "execution_count": 68,
   "metadata": {
    "collapsed": true
   },
   "outputs": [],
   "source": [
    "def rlu(x) :\n",
    "    return x * (x > 0)"
   ]
  },
  {
   "cell_type": "code",
   "execution_count": 69,
   "metadata": {
    "collapsed": true
   },
   "outputs": [],
   "source": [
    "def compute_Y(W, X) :\n",
    "    n = W.shape[1]\n",
    "    return rlu((W @ X)/np.sqrt(n))"
   ]
  },
  {
   "cell_type": "code",
   "execution_count": 70,
   "metadata": {
    "collapsed": true
   },
   "outputs": [],
   "source": [
    "def compute_H(W, x, Y) :\n",
    "    diff = Y - compute_Y(W, x)\n",
    "    return diff.T.dot(diff)"
   ]
  },
  {
   "cell_type": "code",
   "execution_count": 71,
   "metadata": {
    "collapsed": true
   },
   "outputs": [],
   "source": [
    "def random_flip(x) :\n",
    "    i = np.random.randint(low=0, high=len(x))\n",
    "    x[i] = -x[i]\n",
    "    return x"
   ]
  },
  {
   "cell_type": "code",
   "execution_count": 72,
   "metadata": {
    "collapsed": true
   },
   "outputs": [],
   "source": [
    "def accept(W, x0, x1, beta, Y) :\n",
    "    return min(1, np.exp(-beta*( compute_H(W, x1, Y) - compute_H(W, x0, Y) )))"
   ]
  },
  {
   "cell_type": "code",
   "execution_count": 73,
   "metadata": {
    "collapsed": true
   },
   "outputs": [],
   "source": [
    "def rec_error(x0, X, n):\n",
    "    n = len(X)\n",
    "    return (x0-X).T.dot(x0-X) / (4*n)"
   ]
  },
  {
   "cell_type": "markdown",
   "metadata": {},
   "source": [
    "## Metropolis Algorithm ##"
   ]
  },
  {
   "cell_type": "code",
   "execution_count": 87,
   "metadata": {
    "collapsed": true
   },
   "outputs": [],
   "source": [
    "def metropolis(W, X, x0, threshold, beta0) :\n",
    "    \n",
    "    e = sys.maxsize\n",
    "    beta = beta0\n",
    "    Y_true = compute_Y(W, X)\n",
    "    n = len(X)\n",
    "    errors = []\n",
    "    \n",
    "    while e > threshold :\n",
    "        \n",
    "        x1 = random_flip(x0)\n",
    "        a = accept(W, x0, x1, beta, Y_true)\n",
    "        \n",
    "        if a > np.random.uniform() :\n",
    "            x0 = x1\n",
    "           \n",
    "        e = rec_error(x0, X, n)\n",
    "        errors.append(e)\n",
    "    \n",
    "    return x0, errors"
   ]
  },
  {
   "cell_type": "code",
   "execution_count": 107,
   "metadata": {},
   "outputs": [
    {
     "data": {
      "image/png": "[encoded data removed]",
      "text/plain": [
       "<matplotlib.figure.Figure at 0x12408527ac8>"
      ]
     },
     "metadata": {},
     "output_type": "display_data"
    }
   ],
   "source": [
    "found_X, errors = metropolis(W, X, x0, 0.1, beta0)\n",
    "\n",
    "plt.plot(errors)\n",
    "plt.show()"
   ]
  },
  {
   "cell_type": "code",
   "execution_count": null,
   "metadata": {
    "collapsed": true
   },
   "outputs": [],
   "source": []
  }
 ],
 "metadata": {
  "kernelspec": {
   "display_name": "Python 3",
   "language": "python",
   "name": "python3"
  },
  "language_info": {
   "codemirror_mode": {
    "name": "ipython",
    "version": 3
   },
   "file_extension": ".py",
   "mimetype": "text/x-python",
   "name": "python",
   "nbconvert_exporter": "python",
   "pygments_lexer": "ipython3",
   "version": "3.6.3"
  }
 },
 "nbformat": 4,
 "nbformat_minor": 2
}
