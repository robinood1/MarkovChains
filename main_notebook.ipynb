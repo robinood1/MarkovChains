{
 "cells": [
  {
   "cell_type": "markdown",
   "metadata": {},
   "source": [
    "<h1><center>Markov Chains Project</center></h1>\n",
    "<h2><center>Team JLRCactus</center></h2>"
   ]
  },
  {
   "cell_type": "markdown",
   "metadata": {},
   "source": [
    "## Imports ##"
   ]
  },
  {
   "cell_type": "code",
   "execution_count": 1,
   "metadata": {
    "collapsed": true
   },
   "outputs": [],
   "source": [
    "import numpy as np\n",
    "import matplotlib.pyplot as plt\n",
    "import sys as sys"
   ]
  },
  {
   "cell_type": "markdown",
   "metadata": {},
   "source": [
    "## Main ##"
   ]
  },
  {
   "cell_type": "markdown",
   "metadata": {},
   "source": [
    "### Variables ###"
   ]
  },
  {
   "cell_type": "code",
   "execution_count": 45,
   "metadata": {
    "collapsed": true
   },
   "outputs": [],
   "source": [
    "# Values of dimensions n and m\n",
    "n = 2000\n",
    "m = 1000\n",
    "\n",
    "# Initial random vector\n",
    "x0 = np.random.randint(low=0, high=2, size=n)*2-1 # A random array of -1 and +1\n",
    "\n",
    "# To be found vector\n",
    "X = np.random.randint(low=0, high=2, size=n)*2-1 # A random array of -1 and +1 \n",
    "\n",
    "# Known matrix W\n",
    "W = np.random.normal(loc=0, scale=1, size=[m,n]) # W ~ N(0,1)\n",
    "\n",
    "beta0 = 0.7"
   ]
  },
  {
   "cell_type": "markdown",
   "metadata": {},
   "source": [
    "### Run ###"
   ]
  },
  {
   "cell_type": "markdown",
   "metadata": {},
   "source": [
    "## Tools ##"
   ]
  },
  {
   "cell_type": "code",
   "execution_count": 3,
   "metadata": {
    "collapsed": true
   },
   "outputs": [],
   "source": [
    "def ReLU(x) :\n",
    "    return x * (x > 0)"
   ]
  },
  {
   "cell_type": "code",
   "execution_count": 9,
   "metadata": {
    "collapsed": true
   },
   "outputs": [],
   "source": [
    "def compute_Y(W, X) :\n",
    "    n = W.shape[1]\n",
    "    return ReLU((W @ X)/np.sqrt(n))"
   ]
  },
  {
   "cell_type": "code",
   "execution_count": 5,
   "metadata": {
    "collapsed": true
   },
   "outputs": [],
   "source": [
    "def compute_H(W, x, Y) :\n",
    "    diff = Y - compute_Y(W, x)\n",
    "    return diff.T.dot(diff)"
   ]
  },
  {
   "cell_type": "code",
   "execution_count": 6,
   "metadata": {
    "collapsed": true
   },
   "outputs": [],
   "source": [
    "def random_flip(x) :\n",
    "    i = np.random.randint(low=0, high=len(x))\n",
    "    new_x = x.copy()\n",
    "    new_x[i] = -new_x[i]\n",
    "    return new_x"
   ]
  },
  {
   "cell_type": "code",
   "execution_count": 7,
   "metadata": {
    "collapsed": true
   },
   "outputs": [],
   "source": [
    "def accept(W, x0, x1, beta, Y) :\n",
    "    return min(1, np.exp(-beta*( compute_H(W, x1, Y) - compute_H(W, x0, Y) )))"
   ]
  },
  {
   "cell_type": "code",
   "execution_count": 8,
   "metadata": {
    "collapsed": true
   },
   "outputs": [],
   "source": [
    "def rec_error(x0, X, n):\n",
    "    n = len(X)\n",
    "    return (x0-X).T.dot(x0-X) / (4*n)"
   ]
  },
  {
   "cell_type": "markdown",
   "metadata": {},
   "source": [
    "## Metropolis Algorithm ##"
   ]
  },
  {
   "cell_type": "code",
   "execution_count": 79,
   "metadata": {},
   "outputs": [],
   "source": [
    "def metropolis(W, X, x0, threshold, beta0) :\n",
    "    \n",
    "    e = sys.maxsize\n",
    "    beta = beta0\n",
    "    Y_true = compute_Y(W, X)\n",
    "    n = len(X)\n",
    "    errors = []\n",
    "    energies = []\n",
    "    betas = []\n",
    "       \n",
    "    while e > threshold: \n",
    "        x1 = random_flip(x0)\n",
    "        a = accept(W, x0, x1, beta, Y_true)\n",
    "        \n",
    "        if a >= np.random.uniform() : # Swap with prob metropolis\n",
    "            x0 = x1\n",
    "            \n",
    "        if (len(energies)> 60 and np.std(energies[-60:]) < 1):\n",
    "            beta = beta + 0.3\n",
    "                \n",
    "        energy = compute_H(W, x0, Y_true)\n",
    "        energies.append(energy)        \n",
    "        e = rec_error(x0, X, n)\n",
    "        errors.append(e)      \n",
    "        betas.append(beta)\n",
    "        \n",
    "    return x0, errors, energies, betas"
   ]
  },
  {
   "cell_type": "code",
   "execution_count": 88,
   "metadata": {},
   "outputs": [],
   "source": [
    "found_X, errors, energies, betas = metropolis(W, X, x0, 0.4, beta0)"
   ]
  },
  {
   "cell_type": "code",
   "execution_count": 89,
   "metadata": {},
   "outputs": [
    {
     "data": {
      "image/png": "[encoded data removed]",
      "text/plain": [
       "<matplotlib.figure.Figure at 0x1e124635978>"
      ]
     },
     "metadata": {},
     "output_type": "display_data"
    }
   ],
   "source": [
    "plt.plot(energies)\n",
    "plt.plot(betas)\n",
    "plt.show()"
   ]
  },
  {
   "cell_type": "code",
   "execution_count": 90,
   "metadata": {},
   "outputs": [
    {
     "data": {
      "image/png": "[encoded data removed]",
      "text/plain": [
       "<matplotlib.figure.Figure at 0x1e125cef240>"
      ]
     },
     "metadata": {},
     "output_type": "display_data"
    }
   ],
   "source": [
    "plt.plot(errors)\n",
    "plt.show()"
   ]
  },
  {
   "cell_type": "code",
   "execution_count": null,
   "metadata": {
    "collapsed": true
   },
   "outputs": [],
   "source": []
  }
 ],
 "metadata": {
  "kernelspec": {
   "display_name": "Python 3",
   "language": "python",
   "name": "python3"
  },
  "language_info": {
   "codemirror_mode": {
    "name": "ipython",
    "version": 3
   },
   "file_extension": ".py",
   "mimetype": "text/x-python",
   "name": "python",
   "nbconvert_exporter": "python",
   "pygments_lexer": "ipython3",
   "version": "3.6.3"
  }
 },
 "nbformat": 4,
 "nbformat_minor": 2
}
