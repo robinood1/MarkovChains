{
 "cells": [
  {
   "cell_type": "markdown",
   "metadata": {},
   "source": [
    "<h1><center>Markov Chains Project</center></h1>\n",
    "<h2><center>Team JLRCactus</center></h2>"
   ]
  },
  {
   "cell_type": "markdown",
   "metadata": {},
   "source": [
    "## Imports ##"
   ]
  },
  {
   "cell_type": "code",
   "execution_count": 1,
   "metadata": {},
   "outputs": [],
   "source": [
    "import numpy as np\n",
    "import matplotlib.pyplot as plt\n",
    "import sys as sys"
   ]
  },
  {
   "cell_type": "markdown",
   "metadata": {},
   "source": [
    "## Main ##"
   ]
  },
  {
   "cell_type": "markdown",
   "metadata": {},
   "source": [
    "### Variables ###"
   ]
  },
  {
   "cell_type": "code",
   "execution_count": 133,
   "metadata": {},
   "outputs": [],
   "source": [
    "# Values of dimensions n and m\n",
    "n = 1000\n",
    "m = 15000\n",
    "# Initial random vector\n",
    "x0 = np.random.randint(low=0, high=2, size=n)*2-1 # A random array of -1 and +1\n",
    "\n",
    "# To be found vector\n",
    "X = np.random.randint(low=0, high=2, size=n)*2-1 # A random array of -1 and +1 \n",
    "\n",
    "# Known matrix W\n",
    "W = np.random.normal(loc=0, scale=1, size=[m,n]) # W ~ N(0,1)\n",
    "\n",
    "beta0=0.1\n"
   ]
  },
  {
   "cell_type": "markdown",
   "metadata": {},
   "source": [
    "### Run ###"
   ]
  },
  {
   "cell_type": "markdown",
   "metadata": {},
   "source": [
    "## Tools ##"
   ]
  },
  {
   "cell_type": "code",
   "execution_count": 3,
   "metadata": {},
   "outputs": [],
   "source": [
    "def ReLU(x) :\n",
    "    return x * (x > 0)"
   ]
  },
  {
   "cell_type": "code",
   "execution_count": 4,
   "metadata": {},
   "outputs": [],
   "source": [
    "def compute_Y(W, X) :\n",
    "    n = W.shape[1]\n",
    "    return ReLU((W @ X)/np.sqrt(n))"
   ]
  },
  {
   "cell_type": "code",
   "execution_count": 5,
   "metadata": {},
   "outputs": [],
   "source": [
    "def compute_H(W, x, Y) :\n",
    "    diff = Y - compute_Y(W, x)\n",
    "    return diff.T.dot(diff)"
   ]
  },
  {
   "cell_type": "code",
   "execution_count": 6,
   "metadata": {},
   "outputs": [],
   "source": [
    "def random_flip(x) :\n",
    "    i = np.random.randint(low=0, high=len(x))\n",
    "    new_x = x.copy()\n",
    "    new_x[i] = -new_x[i]\n",
    "    return new_x"
   ]
  },
  {
   "cell_type": "code",
   "execution_count": 7,
   "metadata": {},
   "outputs": [],
   "source": [
    "def accept(W, x0, x1, beta, Y) :\n",
    "    return min(1, np.exp(-beta*( compute_H(W, x1, Y) - compute_H(W, x0, Y) )))"
   ]
  },
  {
   "cell_type": "code",
   "execution_count": 8,
   "metadata": {},
   "outputs": [],
   "source": [
    "def rec_error(x0, X, n):\n",
    "    n = len(X)\n",
    "    return (x0-X).T.dot(x0-X) / (4*n)"
   ]
  },
  {
   "cell_type": "markdown",
   "metadata": {},
   "source": [
    "## Metropolis Algorithm ##"
   ]
  },
  {
   "cell_type": "code",
   "execution_count": 121,
   "metadata": {},
   "outputs": [],
   "source": [
    "def metropolis(W, X, x0, threshold, beta0) :\n",
    "    \n",
    "    e = sys.maxsize\n",
    "    beta = beta0\n",
    "    Y_true = compute_Y(W, X)\n",
    "    n = len(X)\n",
    "    errors = []\n",
    "    energies = []\n",
    "    betas = []\n",
    "    i = 0\n",
    "    nbre_iter= 5000\n",
    "    from_last_beta = 0\n",
    "    beta_augm =0.2\n",
    "    treshold = nbre_iter/40\n",
    "    while e > threshold and i < nbre_iter: \n",
    "        i +=1\n",
    "        from_last_beta += 1\n",
    "        \n",
    "        x1 = random_flip(x0)\n",
    "        a = accept(W, x0, x1, beta, Y_true)\n",
    "        \n",
    "        if a >= np.random.uniform() : # Swap with prob metropolis\n",
    "            x0 = x1\n",
    "        \n",
    "        if (from_last_beta> treshold and np.std(energies[-200:]) < m/285.7):\n",
    "            print(i)\n",
    "            beta += beta_augm\n",
    "            from_last_beta = 0\n",
    "        energies.append(compute_H(W, x0, Y_true))        \n",
    "        e = rec_error(x0, X, n)\n",
    "        errors.append(e)      \n",
    "        betas.append(beta)\n",
    "        \n",
    "    return x0, errors, energies, betas"
   ]
  },
  {
   "cell_type": "code",
   "execution_count": 134,
   "metadata": {},
   "outputs": [
    {
     "name": "stdout",
     "output_type": "stream",
     "text": [
      "1699\n",
      "2715\n",
      "3475\n",
      "3601\n",
      "3893\n",
      "4019\n",
      "4145\n",
      "4271\n",
      "4397\n",
      "4523\n",
      "4649\n",
      "4775\n",
      "4901\n"
     ]
    }
   ],
   "source": [
    "found_X, errors, energies, betas = metropolis(W, X, x0, 0, beta0)"
   ]
  },
  {
   "cell_type": "code",
   "execution_count": 135,
   "metadata": {},
   "outputs": [
    {
     "data": {
      "image/png": "[encoded data removed]",
      "text/plain": [
       "<Figure size 432x288 with 2 Axes>"
      ]
     },
     "metadata": {},
     "output_type": "display_data"
    }
   ],
   "source": [
    "fig, ax1 = plt.subplots()\n",
    "\n",
    "s1 = energies\n",
    "ax1.plot(s1, 'b')\n",
    "ax1.set_xlabel('iter')\n",
    "\n",
    "ax1.set_ylabel('energies', color='b')\n",
    "\n",
    "ax2 = ax1.twinx()\n",
    "s2 = betas\n",
    "ax2.plot(s2, 'r')\n",
    "ax2.set_ylabel('betas', color='r')\n",
    "\n",
    "fig.tight_layout()\n",
    "plt.show()"
   ]
  },
  {
   "cell_type": "code",
   "execution_count": 136,
   "metadata": {},
   "outputs": [
    {
     "data": {
      "text/plain": [
       "2.7"
      ]
     },
     "execution_count": 136,
     "metadata": {},
     "output_type": "execute_result"
    }
   ],
   "source": [
    "\n",
    "betas[-1]"
   ]
  },
  {
   "cell_type": "code",
   "execution_count": 137,
   "metadata": {
    "scrolled": true
   },
   "outputs": [
    {
     "data": {
      "text/plain": [
       "0.009"
      ]
     },
     "execution_count": 137,
     "metadata": {},
     "output_type": "execute_result"
    }
   ],
   "source": [
    "min(errors)"
   ]
  },
  {
   "cell_type": "code",
   "execution_count": 138,
   "metadata": {
    "scrolled": true
   },
   "outputs": [
    {
     "data": {
      "image/png": "[encoded data removed]",
      "text/plain": [
       "<Figure size 432x288 with 1 Axes>"
      ]
     },
     "metadata": {},
     "output_type": "display_data"
    }
   ],
   "source": [
    "plt.plot(errors)\n",
    "plt.show()"
   ]
  },
  {
   "cell_type": "code",
   "execution_count": 139,
   "metadata": {},
   "outputs": [
    {
     "data": {
      "text/plain": [
       "9"
      ]
     },
     "execution_count": 139,
     "metadata": {},
     "output_type": "execute_result"
    }
   ],
   "source": [
    "(found_X != X).sum()"
   ]
  },
  {
   "cell_type": "code",
   "execution_count": null,
   "metadata": {},
   "outputs": [],
   "source": []
  }
 ],
 "metadata": {
  "kernelspec": {
   "display_name": "Python 3",
   "language": "python",
   "name": "python3"
  },
  "language_info": {
   "codemirror_mode": {
    "name": "ipython",
    "version": 3
   },
   "file_extension": ".py",
   "mimetype": "text/x-python",
   "name": "python",
   "nbconvert_exporter": "python",
   "pygments_lexer": "ipython3",
   "version": "3.6.5"
  }
 },
 "nbformat": 4,
 "nbformat_minor": 2
}
