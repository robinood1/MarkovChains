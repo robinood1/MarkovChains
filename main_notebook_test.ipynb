{
 "cells": [
  {
   "cell_type": "markdown",
   "metadata": {},
   "source": [
    "<h1><center>Markov Chains Project</center></h1>\n",
    "<h2><center>Team JLRCactus</center></h2>"
   ]
  },
  {
   "cell_type": "markdown",
   "metadata": {},
   "source": [
    "## Imports ##"
   ]
  },
  {
   "cell_type": "code",
   "execution_count": 1,
   "metadata": {},
   "outputs": [],
   "source": [
    "import numpy as np\n",
    "import matplotlib.pyplot as plt\n",
    "import sys as sys"
   ]
  },
  {
   "cell_type": "markdown",
   "metadata": {},
   "source": [
    "## Main ##"
   ]
  },
  {
   "cell_type": "markdown",
   "metadata": {},
   "source": [
    "### Variables ###"
   ]
  },
  {
   "cell_type": "code",
   "execution_count": 61,
   "metadata": {},
   "outputs": [],
   "source": [
    "# Values of dimensions n and m\n",
    "n = 1000\n",
    "m = 2000\n",
    "# Initial random vector\n",
    "x0 = np.random.randint(low=0, high=2, size=n)*2-1 # A random array of -1 and +1\n",
    "\n",
    "# To be found vector\n",
    "X = np.random.randint(low=0, high=2, size=n)*2-1 # A random array of -1 and +1 \n",
    "\n",
    "# Known matrix W\n",
    "W = np.random.normal(loc=0, scale=1, size=[m,n]) # W ~ N(0,1)\n",
    "\n",
    "beta0=0.2\n"
   ]
  },
  {
   "cell_type": "markdown",
   "metadata": {},
   "source": [
    "### Run ###"
   ]
  },
  {
   "cell_type": "markdown",
   "metadata": {},
   "source": [
    "## Tools ##"
   ]
  },
  {
   "cell_type": "code",
   "execution_count": 3,
   "metadata": {},
   "outputs": [],
   "source": [
    "def ReLU(x) :\n",
    "    return x * (x > 0)"
   ]
  },
  {
   "cell_type": "code",
   "execution_count": 4,
   "metadata": {},
   "outputs": [],
   "source": [
    "def compute_Y(W, X) :\n",
    "    n = W.shape[1]\n",
    "    return ReLU((W @ X)/np.sqrt(n))"
   ]
  },
  {
   "cell_type": "code",
   "execution_count": 5,
   "metadata": {},
   "outputs": [],
   "source": [
    "def compute_H(W, x, Y) :\n",
    "    diff = Y - compute_Y(W, x)\n",
    "    return diff.T.dot(diff)"
   ]
  },
  {
   "cell_type": "code",
   "execution_count": 6,
   "metadata": {},
   "outputs": [],
   "source": [
    "def random_flip(x) :\n",
    "    i = np.random.randint(low=0, high=len(x))\n",
    "    new_x = x.copy()\n",
    "    new_x[i] = -new_x[i]\n",
    "    return new_x"
   ]
  },
  {
   "cell_type": "code",
   "execution_count": 7,
   "metadata": {},
   "outputs": [],
   "source": [
    "def accept(W, x0, x1, beta, Y) :\n",
    "    return min(1, np.exp(-beta*( compute_H(W, x1, Y) - compute_H(W, x0, Y) )))"
   ]
  },
  {
   "cell_type": "code",
   "execution_count": 8,
   "metadata": {},
   "outputs": [],
   "source": [
    "def rec_error(x0, X, n):\n",
    "    n = len(X)\n",
    "    return (x0-X).T.dot(x0-X) / (4*n)"
   ]
  },
  {
   "cell_type": "markdown",
   "metadata": {},
   "source": [
    "## Metropolis Algorithm ##"
   ]
  },
  {
   "cell_type": "code",
   "execution_count": 69,
   "metadata": {},
   "outputs": [],
   "source": [
    "def metropolis(W, X, x0, threshold, beta0) :\n",
    "    \n",
    "    e = sys.maxsize\n",
    "    beta = beta0\n",
    "    Y_true = compute_Y(W, X)\n",
    "    n = len(X)\n",
    "    errors = []\n",
    "    energies = []\n",
    "    betas = []\n",
    "    i = 0\n",
    "    nbre_iter= 5000\n",
    "    from_last_beta = 0\n",
    "    beta_augm =0.2\n",
    "    treshold = nbre_iter/40\n",
    "    while e > threshold and i < nbre_iter: \n",
    "        i +=1\n",
    "        from_last_beta += 1\n",
    "        \n",
    "        x1 = random_flip(x0)\n",
    "        a = accept(W, x0, x1, beta, Y_true)\n",
    "        \n",
    "        if a >= np.random.uniform() : # Swap with prob metropolis\n",
    "            x0 = x1\n",
    "        \n",
    "        if (from_last_beta> treshold and np.std(energies[-200:]) < 1 ):#m/285.7):\n",
    "            print(i, end=', ')\n",
    "            beta += beta_augm\n",
    "            from_last_beta = 0\n",
    "        energies.append(compute_H(W, x0, Y_true))        \n",
    "        e = rec_error(x0, X, n)\n",
    "        errors.append(e)      \n",
    "        betas.append(beta)\n",
    "        \n",
    "    return x0, errors, energies, betas"
   ]
  },
  {
   "cell_type": "code",
   "execution_count": 70,
   "metadata": {},
   "outputs": [],
   "source": [
    "found_X, errors, energies, betas = metropolis(W, X, x0, 0, beta0)"
   ]
  },
  {
   "cell_type": "code",
   "execution_count": 71,
   "metadata": {},
   "outputs": [
    {
     "data": {
      "image/png": "[encoded data removed]",
      "text/plain": [
       "<Figure size 432x288 with 2 Axes>"
      ]
     },
     "metadata": {},
     "output_type": "display_data"
    }
   ],
   "source": [
    "fig, ax1 = plt.subplots()\n",
    "\n",
    "s1 = energies\n",
    "ax1.plot(s1, 'b')\n",
    "ax1.set_xlabel('iter')\n",
    "\n",
    "ax1.set_ylabel('energies', color='b')\n",
    "\n",
    "ax2 = ax1.twinx()\n",
    "s2 = betas\n",
    "ax2.plot(s2, 'r')\n",
    "ax2.set_ylabel('betas', color='r')\n",
    "\n",
    "fig.tight_layout()\n",
    "plt.show()"
   ]
  },
  {
   "cell_type": "code",
   "execution_count": 72,
   "metadata": {},
   "outputs": [
    {
     "data": {
      "text/plain": [
       "0.2"
      ]
     },
     "execution_count": 72,
     "metadata": {},
     "output_type": "execute_result"
    }
   ],
   "source": [
    "betas[-1]"
   ]
  },
  {
   "cell_type": "code",
   "execution_count": 73,
   "metadata": {
    "scrolled": true
   },
   "outputs": [
    {
     "data": {
      "text/plain": [
       "0.376"
      ]
     },
     "execution_count": 73,
     "metadata": {},
     "output_type": "execute_result"
    }
   ],
   "source": [
    "min(errors)"
   ]
  },
  {
   "cell_type": "code",
   "execution_count": 74,
   "metadata": {
    "scrolled": true
   },
   "outputs": [
    {
     "data": {
      "image/png": "[encoded data removed]",
      "text/plain": [
       "<Figure size 432x288 with 1 Axes>"
      ]
     },
     "metadata": {},
     "output_type": "display_data"
    }
   ],
   "source": [
    "plt.plot(errors)\n",
    "plt.show()"
   ]
  },
  {
   "cell_type": "code",
   "execution_count": 68,
   "metadata": {},
   "outputs": [
    {
     "data": {
      "text/plain": [
       "140"
      ]
     },
     "execution_count": 68,
     "metadata": {},
     "output_type": "execute_result"
    }
   ],
   "source": [
    "(found_X != X).sum()"
   ]
  },
  {
   "cell_type": "markdown",
   "metadata": {},
   "source": [
    "## Find expected value and std dev ##"
   ]
  },
  {
   "cell_type": "code",
   "execution_count": 36,
   "metadata": {},
   "outputs": [],
   "source": [
    "def exp_std_error(number_experiments=10):\n",
    "    \n",
    "    mean_list = []\n",
    "    std_list = []\n",
    "    \n",
    "    for m in range(1000, 11000, 1000):\n",
    "    \n",
    "        error_m = []\n",
    "\n",
    "        for j in range(0,number_experiments):\n",
    "\n",
    "            #  drawing W and X\n",
    "            x0 = np.random.randint(low=0, high=2, size=n)*2-1 # A random array of -1 and +1\n",
    "            X = np.random.randint(low=0, high=2, size=n)*2-1 # A random array of -1 and +1 \n",
    "            W = np.random.normal(loc=0, scale=1, size=[m,n]) # W ~ N(0,1)\n",
    "\n",
    "            print()\n",
    "            print(\"---- New experiment with alpha= {} ----\".format(m/n))\n",
    "            found_X, errors, energies, betas = metropolis(W, X, x0, 0, beta0)\n",
    "\n",
    "            error_m.append(min(errors))\n",
    "\n",
    "        mean = np.mean(error_m)\n",
    "        std_dev = np.std(error_m)\n",
    "        \n",
    "        mean_list.append(mean)\n",
    "        std_list.append(std_dev)\n",
    "    \n",
    "    return mean_list, std_list"
   ]
  },
  {
   "cell_type": "code",
   "execution_count": 37,
   "metadata": {
    "scrolled": true
   },
   "outputs": [
    {
     "name": "stdout",
     "output_type": "stream",
     "text": [
      "\n",
      "---- New experiment with alpha= 1.0 ----\n",
      "126, 252, 378, 504, 630, 756, 882, 1008, 1134, 1260, 1386, 1512, 1638, 1764, 1890, 2016, 2142, 2268, 2394, 2520, 2646, 2772, 2898, 3024, 3150, 3276, 3402, 3528, 3654, 3780, 3906, 4032, 4158, 4284, 4410, 4536, 4662, 4788, 4914, \n",
      "---- New experiment with alpha= 1.0 ----\n",
      "126, 379, 505, 631, 757, 883, 1009, 1135, 1261, 1387, 1513, 1639, 1765, 1891, 2017, 2143, 2269, 2395, 2521, 2647, 2773, 2899, 3025, 3151, 3277, 3403, 3529, 3655, 3781, 3907, 4033, 4159, 4285, 4411, 4537, 4663, 4789, 4915, \n",
      "---- New experiment with alpha= 1.0 ----\n",
      "126, 252, 436, 562, 688, 814, 940, 1066, 1192, 1318, 1444, 1570, 1696, 1822, 1948, 2074, 2200, 2326, 2452, 2578, 2704, 2830, 2956, 3082, 3208, 3334, 3460, 3586, 3712, 3838, 3964, 4090, 4216, 4342, 4468, 4594, 4720, 4846, 4972, \n",
      "---- New experiment with alpha= 1.0 ----\n",
      "126, 389, 541, 667, 793, 919, 1045, 1171, 1297, 1423, 1549, 1675, 1801, 1927, 2053, 2179, 2305, 2431, 2557, 2683, 2809, 2935, 3061, 3187, 3313, 3439, 3565, 3691, 3817, 3943, 4069, 4195, 4321, 4447, 4573, 4699, 4825, 4951, \n",
      "---- New experiment with alpha= 1.0 ----\n",
      "126, 252, 378, 586, 712, 838, 964, 1090, 1216, 1342, 1468, 1594, 1720, 1846, 1972, 2098, 2224, 2350, 2476, 2602, 2728, 2854, 2980, 3106, 3232, 3358, 3484, 3610, 3736, 3862, 3988, 4114, 4240, 4366, 4492, 4618, 4744, 4870, 4996, \n",
      "---- New experiment with alpha= 1.0 ----\n",
      "126, 403, 529, 655, 781, 907, 1033, 1159, 1285, 1411, 1537, 1663, 1789, 1915, 2041, 2167, 2293, 2419, 2545, 2671, 2797, 2923, 3049, 3175, 3301, 3427, 3553, 3679, 3805, 3931, 4057, 4183, 4309, 4435, 4561, 4687, 4813, 4939, \n",
      "---- New experiment with alpha= 1.0 ----\n",
      "126, 252, 496, 622, 748, 874, 1000, 1126, 1252, 1378, 1504, 1630, 1756, 1882, 2008, 2134, 2260, 2386, 2512, 2638, 2764, 2890, 3016, 3142, 3268, 3394, 3520, 3646, 3772, 3898, 4024, 4150, 4276, 4402, 4528, 4654, 4780, 4906, \n",
      "---- New experiment with alpha= 1.0 ----\n",
      "126, 252, 378, 504, 630, 756, 882, 1008, 1134, 1260, 1386, 1512, 1638, 1764, 1890, 2016, 2142, 2268, 2394, 2520, 2646, 2772, 2898, 3024, 3150, 3276, 3402, 3528, 3654, 3780, 3906, 4032, 4158, 4284, 4410, 4536, 4662, 4788, 4914, \n",
      "---- New experiment with alpha= 1.0 ----\n",
      "126, 252, 394, 520, 668, 794, 920, 1046, 1172, 1298, 1424, 1550, 1676, 1802, 1928, 2054, 2180, 2306, 2432, 2558, 2684, 2810, 2936, 3062, 3188, 3314, 3440, 3566, 3692, 3818, 3944, 4070, 4196, 4322, 4448, 4574, 4700, 4826, 4952, \n",
      "---- New experiment with alpha= 1.0 ----\n",
      "126, 485, 611, 737, 863, 989, 1115, 1241, 1367, 1493, 1619, 1745, 1871, 1997, 2123, 2249, 2375, 2501, 2627, 2753, 2879, 3005, 3131, 3257, 3383, 3509, 3635, 3761, 3887, 4013, 4139, 4265, 4391, 4517, 4643, 4769, 4895, \n",
      "---- New experiment with alpha= 2.0 ----\n",
      "126, 720, 846, 995, 1121, 1247, 1373, 1499, 1625, 1751, 1877, 2003, 2129, 2255, 2381, 2507, 2633, 2759, 2885, 3011, 3137, 3263, 3389, 3515, 3641, 3767, 3893, 4019, 4145, 4271, 4397, 4523, 4649, 4775, 4901, \n",
      "---- New experiment with alpha= 2.0 ----\n",
      "561, 687, 950, 1076, 1202, 1328, 1454, 1580, 1706, 1832, 1958, 2084, 2210, 2336, 2462, 2588, 2714, 2840, 2966, 3092, 3218, 3344, 3470, 3596, 3722, 3848, 3974, 4100, 4226, 4352, 4478, 4604, 4730, 4856, 4982, \n",
      "---- New experiment with alpha= 2.0 ----\n",
      "126, 513, 821, 947, 1073, 1209, 1335, 1461, 1587, 1713, 1839, 1965, 2091, 2217, 2343, 2469, 2595, 2721, 2847, 2973, 3099, 3225, 3351, 3477, 3603, 3729, 3855, 3981, 4107, 4233, 4359, 4485, 4611, 4737, 4863, 4989, \n",
      "---- New experiment with alpha= 2.0 ----\n",
      "126, 797, 923, 1059, 1192, 1318, 1444, 1570, 1696, 1822, 1948, 2074, 2200, 2326, 2452, 2578, 2704, 2830, 2956, 3082, 3208, 3334, 3460, 3586, 3712, 3838, 3964, 4090, 4216, 4342, 4468, 4594, 4720, 4846, 4972, \n",
      "---- New experiment with alpha= 2.0 ----\n",
      "126, 573, 699, 826, 952, 1078, 1204, 1330, 1456, 1582, 1708, 1834, 1960, 2086, 2212, 2338, 2464, 2590, 2716, 2842, 2968, 3094, 3220, 3346, 3472, 3598, 3724, 3850, 3976, 4102, 4228, 4354, 4480, 4606, 4732, 4858, 4984, \n",
      "---- New experiment with alpha= 2.0 ----\n",
      "460, 785, 911, 1037, 1163, 1289, 1415, 1541, 1667, 1793, 1919, 2045, 2171, 2297, 2423, 2549, 2675, 2801, 2927, 3053, 3179, 3305, 3431, 3557, 3683, 3809, 3935, 4061, 4187, 4313, 4439, 4565, 4691, 4817, 4943, \n",
      "---- New experiment with alpha= 2.0 ----\n",
      "126, 434, 560, 804, 930, 1056, 1182, 1308, 1434, 1560, 1686, 1812, 1938, 2064, 2190, 2316, 2442, 2568, 2694, 2820, 2946, 3072, 3198, 3324, 3450, 3576, 3702, 3828, 3954, 4080, 4206, 4332, 4458, 4584, 4710, 4836, 4962, \n",
      "---- New experiment with alpha= 2.0 ----\n",
      "126, 531, 841, 967, 1170, 1296, 1422, 1548, 1674, 1800, 1926, 2052, 2178, 2304, 2430, 2556, 2682, 2808, 2934, 3060, 3186, 3312, 3438, 3564, 3690, 3816, 3942, 4068, 4194, 4320, 4446, 4572, 4698, 4824, 4950, \n",
      "---- New experiment with alpha= 2.0 ----\n",
      "126, 591, 985, 1111, 1237, 1401, 1527, 1653, 1779, 1905, 2031, 2157, 2283, 2409, 2535, 2661, 2787, 2913, 3039, 3165, 3291, 3417, 3543, 3669, 3795, 3921, 4047, 4173, 4299, 4425, 4551, 4677, 4803, 4929, \n",
      "---- New experiment with alpha= 2.0 ----\n",
      "224, 837, 963, 1122, 1248, 1374, 1504, 1630, 1756, 1882, 2008, 2134, 2260, 2386, 2512, 2638, 2764, 2890, 3016, 3142, 3268, 3394, 3520, 3646, 3772, 3898, 4024, 4150, 4276, 4402, 4528, 4654, 4780, 4906, \n",
      "---- New experiment with alpha= 3.0 ----\n",
      "126, 860, 1091, 1274, 1505, 1661, 1787, 1913, 2039, 2165, 2291, 2417, 2543, 2669, 2795, 2921, 3047, 3173, 3299, 3425, 3551, 3677, 3803, 3929, 4055, 4181, 4307, 4433, 4559, 4685, 4811, 4937, \n",
      "---- New experiment with alpha= 3.0 ----\n",
      "438, 847, 1214, 1518, 1727, 1853, 1979, 2105, 2255, 2381, 2507, 2633, 2759, 2885, 3011, 3137, 3263, 3389, 3515, 3641, 3767, 3893, 4019, 4145, 4271, 4397, 4523, 4649, 4775, 4901, \n",
      "---- New experiment with alpha= 3.0 ----\n",
      "516, 1017, 1143, 1269, 1567, 1693, 1819, 1945, 2071, 2197, 2346, 2472, 2598, 2724, 2850, 2976, 3102, 3228, 3354, 3480, 3606, 3732, 3858, 3984, 4110, 4236, 4362, 4488, 4614, 4740, 4866, 4992, \n",
      "---- New experiment with alpha= 3.0 ----\n",
      "399, 1099, 1225, 1351, 1477, 1603, 1729, 1895, 2021, 2147, 2273, 2399, 2525, 2651, 2777, 2903, 3029, 3155, 3281, 3407, 3533, 3659, 3785, 3911, 4037, 4163, 4289, 4415, 4541, 4667, 4793, 4919, \n",
      "---- New experiment with alpha= 3.0 ----\n",
      "715, 841, 1148, 1424, 1832, 1987, 2113, 2259, 2385, 2511, 2637, 2763, 2889, 3015, 3141, 3267, 3393, 3519, 3645, 3771, 3897, 4023, 4149, 4275, 4401, 4527, 4653, 4779, 4905, \n",
      "---- New experiment with alpha= 3.0 ----\n",
      "316, 891, 1358, 1484, 1610, 1736, 1862, 1988, 2114, 2240, 2366, 2492, 2618, 2744, 2870, 2996, 3122, 3248, 3374, 3500, 3626, 3752, 3878, 4004, 4130, 4256, 4382, 4508, 4634, 4760, 4886, \n",
      "---- New experiment with alpha= 3.0 ----\n",
      "547, 1282, 1408, 1534, 1660, 1786, 1912, 2038, 2164, 2290, 2416, 2542, 2668, 2794, 2920, 3046, 3172, 3298, 3424, 3550, 3676, 3802, 3928, 4054, 4180, 4306, 4432, 4558, 4684, 4810, 4936, \n",
      "---- New experiment with alpha= 3.0 ----\n",
      "367, 884, 1288, 1414, 1540, 1760, 1886, 2012, 2138, 2264, 2390, 2516, 2642, 2768, 2894, 3020, 3146, 3272, 3398, 3524, 3650, 3776, 3902, 4028, 4154, 4280, 4406, 4532, 4658, 4784, 4910, \n",
      "---- New experiment with alpha= 3.0 ----\n",
      "492, 1124, 1250, 1552, 1678, 1804, 1930, 2056, 2182, 2308, 2434, 2560, 2686, 2812, 2938, 3064, 3190, 3316, 3442, 3568, 3694, 3820, 3946, 4072, 4198, 4324, 4450, 4576, 4702, 4828, 4954, \n",
      "---- New experiment with alpha= 3.0 ----\n",
      "542, 898, 1162, 1288, 1669, 1795, 1921, 2089, 2215, 2341, 2467, 2635, 2761, 2887, 3013, 3139, 3265, 3391, 3517, 3643, 3769, 3895, 4021, 4147, 4273, 4399, 4525, 4651, 4777, 4903, \n",
      "---- New experiment with alpha= 4.0 ----\n",
      "854, 1069, 1768, 1999, 2329, 2455, 2581, 2852, 2978, 3104, 3230, 3356, 3482, 3608, 3734, 3860, 3986, 4112, 4238, 4364, 4490, 4616, 4742, 4868, 4994, \n",
      "---- New experiment with alpha= 4.0 ----\n",
      "778, 1011, 1604, 2019, 2240, 2615, 2741, 2925, 3051, 3177, 3303, 3429, 3555, 3681, 3807, 3933, 4059, 4185, 4311, 4437, 4563, 4689, 4815, 4941, \n",
      "---- New experiment with alpha= 4.0 ----\n",
      "654, 1601, 1727, 2159, 2285, 2411, 2537, 2663, 2789, 2915, 3041, 3167, 3293, 3419, 3545, 3671, 3797, 3923, 4049, 4175, 4301, 4427, 4553, 4679, 4805, 4931, \n",
      "---- New experiment with alpha= 4.0 ----\n",
      "1042, 1168, 1581, 2402, 2528, 2654, 2780, 2984, 3110, 3236, 3362, 3488, 3614, 3740, 3866, 3992, 4118, 4244, 4370, 4496, 4622, 4748, 4874, 5000, \n",
      "---- New experiment with alpha= 4.0 ----\n"
     ]
    },
    {
     "name": "stdout",
     "output_type": "stream",
     "text": [
      "527, 1670, 1796, 2110, 2236, 2580, 2706, 3013, 3139, 3265, 3391, 3517, 3643, 3769, 3895, 4021, 4147, 4273, 4399, 4525, 4651, 4777, 4903, \n",
      "---- New experiment with alpha= 4.0 ----\n",
      "631, 1859, 2072, 2198, 2324, 2450, 2576, 2704, 2830, 2956, 3082, 3208, 3334, 3460, 3586, 3712, 3838, 3977, 4103, 4229, 4355, 4481, 4607, 4733, 4859, 4985, \n",
      "---- New experiment with alpha= 4.0 ----\n",
      "616, 1293, 1561, 2125, 2251, 2377, 2503, 2629, 2755, 2881, 3007, 3133, 3259, 3385, 3511, 3637, 3763, 3889, 4015, 4141, 4267, 4393, 4519, 4645, 4771, 4897, \n",
      "---- New experiment with alpha= 4.0 ----\n",
      "409, 1577, 1806, 2087, 2213, 2406, 2532, 2658, 2784, 2910, 3036, 3162, 3446, 3572, 3698, 3824, 3950, 4076, 4202, 4328, 4454, 4580, 4706, 4832, 4958, \n",
      "---- New experiment with alpha= 4.0 ----\n",
      "861, 1402, 1528, 2082, 2354, 2480, 2606, 2732, 2913, 3039, 3165, 3291, 3417, 3543, 3669, 3795, 3921, 4047, 4173, 4299, 4425, 4551, 4677, 4803, 4929, \n",
      "---- New experiment with alpha= 4.0 ----\n",
      "1132, 1258, 1985, 2392, 2712, 2838, 2964, 3090, 3216, 3342, 3468, 3594, 3720, 3846, 3972, 4098, 4224, 4350, 4476, 4602, 4728, 4854, 4980, \n",
      "---- New experiment with alpha= 5.0 ----\n",
      "732, 1923, 2410, 2536, 2801, 2927, 3053, 3320, 3446, 3572, 3698, 3882, 4008, 4216, 4342, 4468, 4594, 4720, 4846, 4972, \n",
      "---- New experiment with alpha= 5.0 ----\n",
      "1130, 2010, 2750, 3159, 3531, 3657, 3783, 3909, 4035, 4161, 4287, 4413, 4539, 4665, 4791, 4917, \n",
      "---- New experiment with alpha= 5.0 ----\n",
      "1159, 2451, 2577, 2781, 3375, 3501, 3823, 3949, 4075, 4201, 4327, 4453, 4579, 4705, 4831, 4957, \n",
      "---- New experiment with alpha= 5.0 ----\n",
      "1065, 1836, 2455, 2581, 2707, 3112, 3238, 3364, 3490, 3671, 3797, 3923, 4049, 4175, 4301, 4427, 4553, 4679, 4805, 4931, \n",
      "---- New experiment with alpha= 5.0 ----\n",
      "825, 2161, 2287, 2655, 2781, 2907, 3033, 3168, 3400, 3816, 3942, 4068, 4206, 4332, 4458, 4584, 4710, 4836, 4962, \n",
      "---- New experiment with alpha= 5.0 ----\n",
      "855, 2089, 2215, 2681, 2885, 3298, 3482, 3633, 3759, 3885, 4039, 4165, 4291, 4417, 4543, 4669, 4795, 4921, \n",
      "---- New experiment with alpha= 5.0 ----\n",
      "1130, 1878, 2135, 2472, 2945, 3164, 3290, 3416, 3604, 3730, 3856, 3982, 4108, 4234, 4394, 4520, 4646, 4772, 4898, \n",
      "---- New experiment with alpha= 5.0 ----\n",
      "975, 2019, 2252, 2719, 2976, 3102, 3378, 3504, 3630, 3756, 3882, 4008, 4134, 4260, 4386, 4512, 4638, 4764, 4890, \n",
      "---- New experiment with alpha= 5.0 ----\n",
      "830, 1608, 2068, 2382, 2508, 2634, 2927, 3377, 3503, 3629, 3824, 3950, 4076, 4273, 4399, 4525, 4651, 4777, 4903, \n",
      "---- New experiment with alpha= 5.0 ----\n",
      "1365, 2295, 2421, 2959, 3248, 3374, 3500, 3626, 3752, 3878, 4060, 4186, 4312, 4438, 4564, 4690, 4816, 4942, \n",
      "---- New experiment with alpha= 6.0 ----\n",
      "1652, 2946, 3072, 3433, 3646, 3772, 3938, 4064, 4190, 4316, 4442, 4583, 4709, 4835, 4961, \n",
      "---- New experiment with alpha= 6.0 ----\n",
      "1284, 2326, 3292, 3480, 3606, 3732, 3858, 3984, 4110, 4236, 4362, 4488, 4614, 4740, 4866, 4992, \n",
      "---- New experiment with alpha= 6.0 ----\n",
      "912, 1775, 2619, 2864, 2990, 3225, 3522, 3648, 3774, 3900, 4026, 4152, 4278, 4404, 4551, 4677, 4803, 4929, \n",
      "---- New experiment with alpha= 6.0 ----\n",
      "1213, 1651, 2622, 2870, 3119, 3394, 3562, 3688, 3814, 3940, 4066, 4192, 4318, 4444, 4570, 4726, 4852, 4978, \n",
      "---- New experiment with alpha= 6.0 ----\n",
      "1300, 2464, 2624, 2884, 3421, 3547, 3982, 4108, 4234, 4360, 4486, 4612, 4738, 4864, 4990, \n",
      "---- New experiment with alpha= 6.0 ----\n",
      "1233, 2538, 2664, 3288, 3569, 3695, 3935, 4061, 4187, 4313, 4439, 4565, 4691, 4817, 4943, \n",
      "---- New experiment with alpha= 6.0 ----\n",
      "1039, 2555, 3069, 3195, 3321, 3562, 3748, 3874, 4000, 4126, 4252, 4378, 4521, 4647, 4773, 4899, \n",
      "---- New experiment with alpha= 6.0 ----\n",
      "1461, 2133, 3209, 3335, 3834, 3960, 4086, 4212, 4338, 4464, 4590, 4716, 4842, 4968, \n",
      "---- New experiment with alpha= 6.0 ----\n",
      "1245, 2191, 2848, 3098, 3224, 3394, 3520, 3646, 3772, 3898, 4024, 4150, 4284, 4410, 4536, 4662, 4788, 4914, \n",
      "---- New experiment with alpha= 6.0 ----\n",
      "1284, 1718, 2186, 3103, 3368, 3494, 3666, 3792, 3918, 4044, 4170, 4296, 4422, 4548, 4674, 4800, 4926, \n",
      "---- New experiment with alpha= 7.0 ----\n",
      "1219, 2767, 3480, 3606, 3732, 3948, 4074, 4200, 4326, 4452, 4578, 4704, 4830, 4956, \n",
      "---- New experiment with alpha= 7.0 ----\n",
      "1470, 2657, 2892, 3447, 3625, 3751, 4185, 4311, 4437, 4563, 4689, 4815, 4941, \n",
      "---- New experiment with alpha= 7.0 ----\n",
      "1066, 2693, 2819, 3000, 3615, 3868, 3994, 4120, 4246, 4372, 4498, 4624, 4750, 4876, \n",
      "---- New experiment with alpha= 7.0 ----\n",
      "1319, 2600, 2853, 3592, 3718, 3856, 3982, 4139, 4265, 4391, 4517, 4643, 4769, 4895, \n",
      "---- New experiment with alpha= 7.0 ----\n",
      "1507, 3323, 3449, 3575, 3701, 4004, 4130, 4256, 4382, 4508, 4634, 4760, 4886, \n",
      "---- New experiment with alpha= 7.0 ----\n",
      "1936, 3143, 3269, 3539, 3665, 4015, 4141, 4267, 4499, 4625, 4751, 4877, \n",
      "---- New experiment with alpha= 7.0 ----\n",
      "1246, 2685, 3051, 3293, 3419, 3545, 3740, 3866, 3992, 4118, 4244, 4370, 4496, 4622, 4748, 4874, 5000, \n",
      "---- New experiment with alpha= 7.0 ----\n",
      "1488, 3187, 3313, 3914, 4101, 4227, 4353, 4479, 4719, 4845, 4971, \n",
      "---- New experiment with alpha= 7.0 ----\n",
      "1459, 2684, 3134, 3260, 3386, 3914, 4040, 4166, 4292, 4418, 4544, 4670, 4796, 4922, \n",
      "---- New experiment with alpha= 7.0 ----\n",
      "1736, 3027, 3460, 3586, 4265, 4391, 4517, 4647, 4773, 4899, \n",
      "---- New experiment with alpha= 8.0 ----\n",
      "1734, 3927, 4053, 4191, 4317, 4443, 4569, 4695, 4821, 4947, \n",
      "---- New experiment with alpha= 8.0 ----\n",
      "1449, 3189, 3315, 3558, 3684, 3810, 3962, 4088, 4214, 4340, 4466, 4592, 4718, 4844, 4970, \n",
      "---- New experiment with alpha= 8.0 ----\n",
      "1942, 2684, 3849, 3975, 4101, 4227, 4463, 4589, 4715, 4841, 4967, \n",
      "---- New experiment with alpha= 8.0 ----\n",
      "1506, 2958, 3225, 3364, 3490, 3904, 4030, 4246, 4372, 4544, 4670, 4796, 4922, \n",
      "---- New experiment with alpha= 8.0 ----\n",
      "1847, 3696, 3822, 4154, 4280, 4406, 4532, 4658, 4784, 4910, \n",
      "---- New experiment with alpha= 8.0 ----\n",
      "1926, "
     ]
    },
    {
     "ename": "KeyboardInterrupt",
     "evalue": "",
     "output_type": "error",
     "traceback": [
      "\u001b[1;31m---------------------------------------------------------------------------\u001b[0m",
      "\u001b[1;31mKeyboardInterrupt\u001b[0m                         Traceback (most recent call last)",
      "\u001b[1;32m<ipython-input-37-779935651141>\u001b[0m in \u001b[0;36m<module>\u001b[1;34m()\u001b[0m\n\u001b[1;32m----> 1\u001b[1;33m \u001b[0mmean_list\u001b[0m\u001b[1;33m,\u001b[0m \u001b[0mstd_list\u001b[0m \u001b[1;33m=\u001b[0m \u001b[0mexp_std_error\u001b[0m\u001b[1;33m(\u001b[0m\u001b[1;33m)\u001b[0m\u001b[1;33m\u001b[0m\u001b[0m\n\u001b[0m\u001b[0;32m      2\u001b[0m \u001b[0mmean_list\u001b[0m\u001b[1;33m,\u001b[0m \u001b[0mstd_list\u001b[0m\u001b[1;33m\u001b[0m\u001b[0m\n",
      "\u001b[1;32m<ipython-input-36-dd1ab8d9045e>\u001b[0m in \u001b[0;36mexp_std_error\u001b[1;34m(number_experiments)\u001b[0m\n\u001b[0;32m     17\u001b[0m             \u001b[0mprint\u001b[0m\u001b[1;33m(\u001b[0m\u001b[1;33m)\u001b[0m\u001b[1;33m\u001b[0m\u001b[0m\n\u001b[0;32m     18\u001b[0m             \u001b[0mprint\u001b[0m\u001b[1;33m(\u001b[0m\u001b[1;34m\"---- New experiment with alpha= {} ----\"\u001b[0m\u001b[1;33m.\u001b[0m\u001b[0mformat\u001b[0m\u001b[1;33m(\u001b[0m\u001b[0mm\u001b[0m\u001b[1;33m/\u001b[0m\u001b[0mn\u001b[0m\u001b[1;33m)\u001b[0m\u001b[1;33m)\u001b[0m\u001b[1;33m\u001b[0m\u001b[0m\n\u001b[1;32m---> 19\u001b[1;33m             \u001b[0mfound_X\u001b[0m\u001b[1;33m,\u001b[0m \u001b[0merrors\u001b[0m\u001b[1;33m,\u001b[0m \u001b[0menergies\u001b[0m\u001b[1;33m,\u001b[0m \u001b[0mbetas\u001b[0m \u001b[1;33m=\u001b[0m \u001b[0mmetropolis\u001b[0m\u001b[1;33m(\u001b[0m\u001b[0mW\u001b[0m\u001b[1;33m,\u001b[0m \u001b[0mX\u001b[0m\u001b[1;33m,\u001b[0m \u001b[0mx0\u001b[0m\u001b[1;33m,\u001b[0m \u001b[1;36m0\u001b[0m\u001b[1;33m,\u001b[0m \u001b[0mbeta0\u001b[0m\u001b[1;33m)\u001b[0m\u001b[1;33m\u001b[0m\u001b[0m\n\u001b[0m\u001b[0;32m     20\u001b[0m \u001b[1;33m\u001b[0m\u001b[0m\n\u001b[0;32m     21\u001b[0m             \u001b[0merror_m\u001b[0m\u001b[1;33m.\u001b[0m\u001b[0mappend\u001b[0m\u001b[1;33m(\u001b[0m\u001b[0mmin\u001b[0m\u001b[1;33m(\u001b[0m\u001b[0merrors\u001b[0m\u001b[1;33m)\u001b[0m\u001b[1;33m)\u001b[0m\u001b[1;33m\u001b[0m\u001b[0m\n",
      "\u001b[1;32m<ipython-input-23-30480f3377e2>\u001b[0m in \u001b[0;36mmetropolis\u001b[1;34m(W, X, x0, threshold, beta0)\u001b[0m\n\u001b[0;32m     27\u001b[0m             \u001b[0mbeta\u001b[0m \u001b[1;33m+=\u001b[0m \u001b[0mbeta_augm\u001b[0m\u001b[1;33m\u001b[0m\u001b[0m\n\u001b[0;32m     28\u001b[0m             \u001b[0mfrom_last_beta\u001b[0m \u001b[1;33m=\u001b[0m \u001b[1;36m0\u001b[0m\u001b[1;33m\u001b[0m\u001b[0m\n\u001b[1;32m---> 29\u001b[1;33m         \u001b[0menergies\u001b[0m\u001b[1;33m.\u001b[0m\u001b[0mappend\u001b[0m\u001b[1;33m(\u001b[0m\u001b[0mcompute_H\u001b[0m\u001b[1;33m(\u001b[0m\u001b[0mW\u001b[0m\u001b[1;33m,\u001b[0m \u001b[0mx0\u001b[0m\u001b[1;33m,\u001b[0m \u001b[0mY_true\u001b[0m\u001b[1;33m)\u001b[0m\u001b[1;33m)\u001b[0m\u001b[1;33m\u001b[0m\u001b[0m\n\u001b[0m\u001b[0;32m     30\u001b[0m         \u001b[0me\u001b[0m \u001b[1;33m=\u001b[0m \u001b[0mrec_error\u001b[0m\u001b[1;33m(\u001b[0m\u001b[0mx0\u001b[0m\u001b[1;33m,\u001b[0m \u001b[0mX\u001b[0m\u001b[1;33m,\u001b[0m \u001b[0mn\u001b[0m\u001b[1;33m)\u001b[0m\u001b[1;33m\u001b[0m\u001b[0m\n\u001b[0;32m     31\u001b[0m         \u001b[0merrors\u001b[0m\u001b[1;33m.\u001b[0m\u001b[0mappend\u001b[0m\u001b[1;33m(\u001b[0m\u001b[0me\u001b[0m\u001b[1;33m)\u001b[0m\u001b[1;33m\u001b[0m\u001b[0m\n",
      "\u001b[1;32m<ipython-input-19-7dd571cd23f4>\u001b[0m in \u001b[0;36mcompute_H\u001b[1;34m(W, x, Y)\u001b[0m\n\u001b[0;32m      1\u001b[0m \u001b[1;32mdef\u001b[0m \u001b[0mcompute_H\u001b[0m\u001b[1;33m(\u001b[0m\u001b[0mW\u001b[0m\u001b[1;33m,\u001b[0m \u001b[0mx\u001b[0m\u001b[1;33m,\u001b[0m \u001b[0mY\u001b[0m\u001b[1;33m)\u001b[0m \u001b[1;33m:\u001b[0m\u001b[1;33m\u001b[0m\u001b[0m\n\u001b[1;32m----> 2\u001b[1;33m     \u001b[0mdiff\u001b[0m \u001b[1;33m=\u001b[0m \u001b[0mY\u001b[0m \u001b[1;33m-\u001b[0m \u001b[0mcompute_Y\u001b[0m\u001b[1;33m(\u001b[0m\u001b[0mW\u001b[0m\u001b[1;33m,\u001b[0m \u001b[0mx\u001b[0m\u001b[1;33m)\u001b[0m\u001b[1;33m\u001b[0m\u001b[0m\n\u001b[0m\u001b[0;32m      3\u001b[0m     \u001b[1;32mreturn\u001b[0m \u001b[0mdiff\u001b[0m\u001b[1;33m.\u001b[0m\u001b[0mT\u001b[0m\u001b[1;33m.\u001b[0m\u001b[0mdot\u001b[0m\u001b[1;33m(\u001b[0m\u001b[0mdiff\u001b[0m\u001b[1;33m)\u001b[0m\u001b[1;33m\u001b[0m\u001b[0m\n",
      "\u001b[1;32m<ipython-input-18-81ce9bdb5589>\u001b[0m in \u001b[0;36mcompute_Y\u001b[1;34m(W, X)\u001b[0m\n\u001b[0;32m      1\u001b[0m \u001b[1;32mdef\u001b[0m \u001b[0mcompute_Y\u001b[0m\u001b[1;33m(\u001b[0m\u001b[0mW\u001b[0m\u001b[1;33m,\u001b[0m \u001b[0mX\u001b[0m\u001b[1;33m)\u001b[0m \u001b[1;33m:\u001b[0m\u001b[1;33m\u001b[0m\u001b[0m\n\u001b[0;32m      2\u001b[0m     \u001b[0mn\u001b[0m \u001b[1;33m=\u001b[0m \u001b[0mW\u001b[0m\u001b[1;33m.\u001b[0m\u001b[0mshape\u001b[0m\u001b[1;33m[\u001b[0m\u001b[1;36m1\u001b[0m\u001b[1;33m]\u001b[0m\u001b[1;33m\u001b[0m\u001b[0m\n\u001b[1;32m----> 3\u001b[1;33m     \u001b[1;32mreturn\u001b[0m \u001b[0mReLU\u001b[0m\u001b[1;33m(\u001b[0m\u001b[1;33m(\u001b[0m\u001b[0mW\u001b[0m \u001b[1;33m@\u001b[0m \u001b[0mX\u001b[0m\u001b[1;33m)\u001b[0m\u001b[1;33m/\u001b[0m\u001b[0mnp\u001b[0m\u001b[1;33m.\u001b[0m\u001b[0msqrt\u001b[0m\u001b[1;33m(\u001b[0m\u001b[0mn\u001b[0m\u001b[1;33m)\u001b[0m\u001b[1;33m)\u001b[0m\u001b[1;33m\u001b[0m\u001b[0m\n\u001b[0m",
      "\u001b[1;31mKeyboardInterrupt\u001b[0m: "
     ]
    }
   ],
   "source": [
    "mean_list, std_list = exp_std_error()\n",
    "mean_list, std_list"
   ]
  },
  {
   "cell_type": "code",
   "execution_count": 38,
   "metadata": {},
   "outputs": [
    {
     "ename": "NameError",
     "evalue": "name 'mean_list' is not defined",
     "output_type": "error",
     "traceback": [
      "\u001b[1;31m---------------------------------------------------------------------------\u001b[0m",
      "\u001b[1;31mNameError\u001b[0m                                 Traceback (most recent call last)",
      "\u001b[1;32m<ipython-input-38-7b13a8febb36>\u001b[0m in \u001b[0;36m<module>\u001b[1;34m()\u001b[0m\n\u001b[0;32m      1\u001b[0m \u001b[0mfig\u001b[0m\u001b[1;33m,\u001b[0m \u001b[0max1\u001b[0m \u001b[1;33m=\u001b[0m \u001b[0mplt\u001b[0m\u001b[1;33m.\u001b[0m\u001b[0msubplots\u001b[0m\u001b[1;33m(\u001b[0m\u001b[1;33m)\u001b[0m\u001b[1;33m\u001b[0m\u001b[0m\n\u001b[0;32m      2\u001b[0m \u001b[1;33m\u001b[0m\u001b[0m\n\u001b[1;32m----> 3\u001b[1;33m \u001b[0ms1\u001b[0m \u001b[1;33m=\u001b[0m \u001b[0mmean_list\u001b[0m\u001b[1;33m\u001b[0m\u001b[0m\n\u001b[0m\u001b[0;32m      4\u001b[0m \u001b[0max1\u001b[0m\u001b[1;33m.\u001b[0m\u001b[0mplot\u001b[0m\u001b[1;33m(\u001b[0m\u001b[0ms1\u001b[0m\u001b[1;33m,\u001b[0m \u001b[1;34m'b'\u001b[0m\u001b[1;33m)\u001b[0m\u001b[1;33m\u001b[0m\u001b[0m\n\u001b[0;32m      5\u001b[0m \u001b[0max1\u001b[0m\u001b[1;33m.\u001b[0m\u001b[0mset_xlabel\u001b[0m\u001b[1;33m(\u001b[0m\u001b[1;34m'alpha'\u001b[0m\u001b[1;33m)\u001b[0m\u001b[1;33m\u001b[0m\u001b[0m\n",
      "\u001b[1;31mNameError\u001b[0m: name 'mean_list' is not defined"
     ]
    },
    {
     "data": {
      "image/png": "[encoded data removed]",
      "text/plain": [
       "<Figure size 432x288 with 1 Axes>"
      ]
     },
     "metadata": {},
     "output_type": "display_data"
    }
   ],
   "source": [
    "fig, ax1 = plt.subplots()\n",
    "\n",
    "s1 = mean_list\n",
    "ax1.plot(s1, 'b')\n",
    "ax1.set_xlabel('alpha')\n",
    "ax1.set_ylabel('mean', color='b')\n",
    "\n",
    "ax2 = ax1.twinx()\n",
    "s2 = std_list\n",
    "ax2.plot(s2, 'r')\n",
    "ax2.set_ylabel('standard deviation', color='r.')\n",
    "\n",
    "fig.tight_layout()\n",
    "plt.show()"
   ]
  },
  {
   "cell_type": "code",
   "execution_count": null,
   "metadata": {
    "collapsed": true
   },
   "outputs": [],
   "source": []
  }
 ],
 "metadata": {
  "kernelspec": {
   "display_name": "Python 3",
   "language": "python",
   "name": "python3"
  },
  "language_info": {
   "codemirror_mode": {
    "name": "ipython",
    "version": 3
   },
   "file_extension": ".py",
   "mimetype": "text/x-python",
   "name": "python",
   "nbconvert_exporter": "python",
   "pygments_lexer": "ipython3",
   "version": "3.6.5"
  }
 },
 "nbformat": 4,
 "nbformat_minor": 2
}
