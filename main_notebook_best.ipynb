{
 "cells": [
  {
   "cell_type": "markdown",
   "metadata": {},
   "source": [
    "<h1><center>Markov Chains Project</center></h1>\n",
    "<h2><center>Team JLRCactus</center></h2>"
   ]
  },
  {
   "cell_type": "markdown",
   "metadata": {},
   "source": [
    "## Imports ##"
   ]
  },
  {
   "cell_type": "code",
   "execution_count": 1,
   "metadata": {},
   "outputs": [],
   "source": [
    "import numpy as np\n",
    "import matplotlib.pyplot as plt\n",
    "import sys as sys"
   ]
  },
  {
   "cell_type": "markdown",
   "metadata": {},
   "source": [
    "## Main ##"
   ]
  },
  {
   "cell_type": "markdown",
   "metadata": {},
   "source": [
    "### Variables ###"
   ]
  },
  {
   "cell_type": "code",
   "execution_count": 3,
   "metadata": {},
   "outputs": [],
   "source": [
    "# Values of dimensions n and m\n",
    "n = 1000\n",
    "m = 8000\n",
    "# Initial random vector\n",
    "x0 = np.random.randint(low=0, high=2, size=n)*2-1 # A random array of -1 and +1\n",
    "\n",
    "# To be found vector\n",
    "X = np.random.randint(low=0, high=2, size=n)*2-1 # A random array of -1 and +1 \n",
    "\n",
    "# Known matrix W\n",
    "W = np.random.normal(loc=0, scale=1, size=[m,n]) # W ~ N(0,1)\n",
    "\n",
    "beta0=0.2\n"
   ]
  },
  {
   "cell_type": "markdown",
   "metadata": {},
   "source": [
    "### Run ###"
   ]
  },
  {
   "cell_type": "markdown",
   "metadata": {},
   "source": [
    "## Tools ##"
   ]
  },
  {
   "cell_type": "code",
   "execution_count": 4,
   "metadata": {},
   "outputs": [],
   "source": [
    "def ReLU(x) :\n",
    "    return x * (x > 0)"
   ]
  },
  {
   "cell_type": "code",
   "execution_count": 5,
   "metadata": {},
   "outputs": [],
   "source": [
    "def compute_Y(W, X) :\n",
    "    n = W.shape[1]\n",
    "    return ReLU((W @ X)/np.sqrt(n))"
   ]
  },
  {
   "cell_type": "code",
   "execution_count": 6,
   "metadata": {},
   "outputs": [],
   "source": [
    "def compute_H(W, x, Y) :\n",
    "    diff = Y - compute_Y(W, x)\n",
    "    return diff.T.dot(diff)"
   ]
  },
  {
   "cell_type": "code",
   "execution_count": 7,
   "metadata": {},
   "outputs": [],
   "source": [
    "def random_flip(x) :\n",
    "    i = np.random.randint(low=0, high=len(x))\n",
    "    new_x = x.copy()\n",
    "    new_x[i] = -new_x[i]\n",
    "    return new_x"
   ]
  },
  {
   "cell_type": "code",
   "execution_count": 8,
   "metadata": {},
   "outputs": [],
   "source": [
    "def accept(W, x0, x1, beta, Y) :\n",
    "    return min(1, np.exp(-beta*( compute_H(W, x1, Y) - compute_H(W, x0, Y) )))"
   ]
  },
  {
   "cell_type": "code",
   "execution_count": 9,
   "metadata": {},
   "outputs": [],
   "source": [
    "def rec_error(x0, X, n):\n",
    "    n = len(X)\n",
    "    return (x0-X).T.dot(x0-X) / (4*n)"
   ]
  },
  {
   "cell_type": "markdown",
   "metadata": {},
   "source": [
    "## Metropolis Algorithm ##"
   ]
  },
  {
   "cell_type": "code",
   "execution_count": 11,
   "metadata": {},
   "outputs": [],
   "source": [
    "def metropolis(W, X, x0, threshold, beta0) :\n",
    "    \n",
    "    e = sys.maxsize\n",
    "    beta = beta0\n",
    "    Y_true = compute_Y(W, X)\n",
    "    n = len(X)\n",
    "    errors = []\n",
    "    energies = []\n",
    "    betas = []\n",
    "    i = 0\n",
    "    nbre_iter= 5000\n",
    "    from_last_beta = 0\n",
    "    beta_augm =0.2\n",
    "    treshold = nbre_iter/40\n",
    "    while e > threshold and i < nbre_iter: \n",
    "        i +=1\n",
    "        from_last_beta += 1\n",
    "        \n",
    "        x1 = random_flip(x0)\n",
    "        a = accept(W, x0, x1, beta, Y_true)\n",
    "        \n",
    "        if a >= np.random.uniform() : # Swap with prob metropolis\n",
    "            x0 = x1\n",
    "        \n",
    "        if (from_last_beta> treshold and np.std(energies[-200:]) < m/285.7):\n",
    "            print(i, end=', ')\n",
    "            beta += beta_augm\n",
    "            from_last_beta = 0\n",
    "        energies.append(compute_H(W, x0, Y_true))        \n",
    "        e = rec_error(x0, X, n)\n",
    "        errors.append(e)      \n",
    "        betas.append(beta)\n",
    "        \n",
    "    return x0, errors, energies, betas"
   ]
  },
  {
   "cell_type": "code",
   "execution_count": 25,
   "metadata": {},
   "outputs": [
    {
     "name": "stdout",
     "output_type": "stream",
     "text": [
      "805\n",
      "2663\n",
      "2739\n"
     ]
    }
   ],
   "source": [
    "found_X, errors, energies, betas = metropolis(W, X, x0, 0, beta0)"
   ]
  },
  {
   "cell_type": "code",
   "execution_count": 26,
   "metadata": {},
   "outputs": [
    {
     "data": {
      "image/png": "[encoded data removed]",
      "text/plain": [
       "<matplotlib.figure.Figure at 0x24c8fa2b630>"
      ]
     },
     "metadata": {},
     "output_type": "display_data"
    }
   ],
   "source": [
    "fig, ax1 = plt.subplots()\n",
    "\n",
    "s1 = energies\n",
    "ax1.plot(s1, 'b')\n",
    "ax1.set_xlabel('iter')\n",
    "\n",
    "ax1.set_ylabel('energies', color='b')\n",
    "\n",
    "ax2 = ax1.twinx()\n",
    "s2 = betas\n",
    "ax2.plot(s2, 'r')\n",
    "ax2.set_ylabel('betas', color='r')\n",
    "\n",
    "fig.tight_layout()\n",
    "plt.show()"
   ]
  },
  {
   "cell_type": "code",
   "execution_count": 27,
   "metadata": {},
   "outputs": [
    {
     "data": {
      "text/plain": [
       "0.7"
      ]
     },
     "execution_count": 27,
     "metadata": {},
     "output_type": "execute_result"
    }
   ],
   "source": [
    "betas[-1]"
   ]
  },
  {
   "cell_type": "code",
   "execution_count": 28,
   "metadata": {
    "scrolled": true
   },
   "outputs": [
    {
     "data": {
      "text/plain": [
       "0.083000000000000004"
      ]
     },
     "execution_count": 28,
     "metadata": {},
     "output_type": "execute_result"
    }
   ],
   "source": [
    "min(errors)"
   ]
  },
  {
   "cell_type": "code",
   "execution_count": 29,
   "metadata": {
    "scrolled": true
   },
   "outputs": [
    {
     "data": {
      "image/png": "[encoded data removed]",
      "text/plain": [
       "<matplotlib.figure.Figure at 0x24c8f98d630>"
      ]
     },
     "metadata": {},
     "output_type": "display_data"
    }
   ],
   "source": [
    "plt.plot(errors)\n",
    "plt.show()"
   ]
  },
  {
   "cell_type": "code",
   "execution_count": 30,
   "metadata": {},
   "outputs": [
    {
     "data": {
      "text/plain": [
       "83"
      ]
     },
     "execution_count": 30,
     "metadata": {},
     "output_type": "execute_result"
    }
   ],
   "source": [
    "(found_X != X).sum()"
   ]
  },
  {
   "cell_type": "markdown",
   "metadata": {},
   "source": [
    "## Find expected value and std dev ##"
   ]
  },
  {
   "cell_type": "code",
   "execution_count": 12,
   "metadata": {},
   "outputs": [],
   "source": [
    "def exp_std_error(number_experiments=10):\n",
    "    \n",
    "    mean_list = []\n",
    "    std_list = []\n",
    "    \n",
    "    for m in range(1000, 11000, 1000):\n",
    "    \n",
    "        error_m = []\n",
    "\n",
    "        for j in range(0,number_experiments):\n",
    "\n",
    "            #  drawing W and X\n",
    "            x0 = np.random.randint(low=0, high=2, size=n)*2-1 # A random array of -1 and +1\n",
    "            X = np.random.randint(low=0, high=2, size=n)*2-1 # A random array of -1 and +1 \n",
    "            W = np.random.normal(loc=0, scale=1, size=[m,n]) # W ~ N(0,1)\n",
    "\n",
    "            print()\n",
    "            print(\"---- New experiment with alpha={} ----\" .format( m/n))\n",
    "            found_X, errors, energies, betas = metropolis(W, X, x0, 0, beta0)\n",
    "\n",
    "            error_m.append(min(errors))\n",
    "\n",
    "        mean = np.mean(error_m)\n",
    "        std_dev = np.std(error_m)\n",
    "        \n",
    "        mean_list.append(mean)\n",
    "        std_list.append(std_dev)\n",
    "    \n",
    "    return mean_list, std_list"
   ]
  },
  {
   "cell_type": "code",
   "execution_count": 13,
   "metadata": {
    "scrolled": true
   },
   "outputs": [
    {
     "name": "stdout",
     "output_type": "stream",
     "text": [
      "\n",
      "---- New experiment with alpha=1.0 ----\n",
      "126, 252, 378, 504, 630, 756, 882, 1008, 1134, 1260, 1386, 1512, 1638, 1764, 1890, 2016, 2142, 2268, 2394, 2520, 2646, 2772, 2898, 3024, 3150, 3276, 3402, 3528, 3654, 3780, 3906, 4032, 4158, 4284, 4410, 4536, 4662, 4788, 4914, \n",
      "---- New experiment with alpha=1.0 ----\n",
      "126, 252, 467, 593, 719, 845, 971, 1097, 1223, 1349, 1475, 1601, 1727, 1853, 1979, 2105, 2231, 2357, 2483, 2609, 2735, 2861, 2987, 3113, 3239, 3365, 3491, 3617, 3743, 3869, 3995, 4121, 4247, 4373, 4499, 4625, 4751, 4877, \n",
      "---- New experiment with alpha=1.0 ----\n",
      "126, 252, 378, 504, 707, 833, 959, 1085, 1211, 1337, 1463, 1589, 1715, 1841, 1967, 2093, 2219, 2345, 2471, 2597, 2723, 2849, 2975, 3101, 3227, 3353, 3479, 3605, 3731, 3857, 3983, 4109, 4235, 4361, 4487, 4613, 4739, 4865, 4991, \n",
      "---- New experiment with alpha=1.0 ----\n",
      "126, 355, 481, 607, 733, 859, 985, 1111, 1237, 1363, 1489, 1615, 1741, 1867, 1993, 2119, 2245, 2371, 2497, 2623, 2749, 2875, 3001, 3127, 3253, 3379, 3505, 3631, 3757, 3883, 4009, 4135, 4261, 4387, 4513, 4639, 4765, 4891, \n",
      "---- New experiment with alpha=1.0 ----\n",
      "126, 252, 378, 504, 630, 756, 882, 1008, 1134, 1260, 1386, 1512, 1638, 1764, 1890, 2016, 2142, 2268, 2394, 2520, 2646, 2772, 2898, 3024, 3150, 3276, 3402, 3528, 3654, 3780, 3906, 4032, 4158, 4284, 4410, 4536, 4662, 4788, 4914, \n",
      "---- New experiment with alpha=1.0 ----\n",
      "126, 344, 470, 596, 722, 848, 974, 1100, 1226, 1352, 1478, 1604, 1730, 1856, 1982, 2108, 2234, 2360, 2486, 2612, 2738, 2864, 2990, 3116, 3242, 3368, 3494, 3620, 3746, 3872, 3998, 4124, 4250, 4376, 4502, 4628, 4754, 4880, \n",
      "---- New experiment with alpha=1.0 ----\n",
      "126, 327, 453, 579, 705, 831, 957, 1083, 1209, 1335, 1461, 1587, 1713, 1839, 1965, 2091, 2217, 2343, 2469, 2595, 2721, 2847, 2973, 3099, 3225, 3351, 3477, 3603, 3729, 3855, 3981, 4107, 4233, 4359, 4485, 4611, 4737, 4863, 4989, \n",
      "---- New experiment with alpha=1.0 ----\n",
      "126, 252, 419, 545, 671, 797, 923, 1049, 1175, 1301, 1427, 1553, 1679, 1805, 1931, 2057, 2183, 2309, 2435, 2561, 2687, 2813, 2939, 3065, 3191, 3317, 3443, 3569, 3695, 3821, 3947, 4073, 4199, 4325, 4451, 4577, 4703, 4829, 4955, \n",
      "---- New experiment with alpha=1.0 ----\n",
      "126, 252, 468, 765, 891, 1017, 1143, 1269, 1395, 1521, 1647, 1773, 1899, 2025, 2151, 2277, 2403, 2529, 2655, 2781, 2907, 3033, 3159, 3285, 3411, 3537, 3663, 3789, 3915, 4041, 4167, 4293, 4419, 4545, 4671, 4797, 4923, \n",
      "---- New experiment with alpha=1.0 ----\n",
      "126, 355, 481, 607, 733, 859, 985, 1111, 1237, 1363, 1489, 1615, 1741, 1867, 1993, 2119, 2245, 2371, 2497, 2623, 2749, 2875, 3001, 3127, 3253, 3379, 3505, 3631, 3757, 3883, 4009, 4135, 4261, 4387, 4513, 4639, 4765, 4891, \n",
      "---- New experiment with alpha=2.0 ----\n",
      "369, 495, 1031, 1199, 1325, 1451, 1577, 1703, 1829, 1955, 2081, 2207, 2333, 2459, 2585, 2711, 2837, 2963, 3089, 3215, 3341, 3467, 3593, 3719, 3845, 3971, 4097, 4223, 4349, 4475, 4601, 4727, 4853, 4979, \n",
      "---- New experiment with alpha=2.0 ----\n",
      "320, 715, 841, 967, 1164, 1290, 1416, 1542, 1668, 1794, 1920, 2046, 2172, 2298, 2424, 2550, 2676, 2802, 2928, 3054, 3180, 3306, 3432, 3558, 3684, 3810, 3936, 4062, 4188, 4314, 4440, 4566, 4692, 4818, 4944, \n",
      "---- New experiment with alpha=2.0 ----\n",
      "126, 288, 927, 1053, 1179, 1305, 1431, 1557, 1683, 1809, 1935, 2061, 2187, 2313, 2439, 2565, 2691, 2817, 2943, 3069, 3195, 3321, 3447, 3573, 3699, 3825, 3951, 4077, 4203, 4329, 4455, 4581, 4707, 4833, 4959, \n",
      "---- New experiment with alpha=2.0 ----\n",
      "384, 691, 977, 1103, 1229, 1428, 1554, 1680, 1806, 1932, 2058, 2184, 2310, 2436, 2562, 2688, 2814, 2940, 3066, 3192, 3318, 3444, 3570, 3696, 3822, 3948, 4074, 4200, 4326, 4452, 4578, 4704, 4830, 4956, \n",
      "---- New experiment with alpha=2.0 ----\n",
      "446, 691, 933, 1103, 1229, 1355, 1481, 1607, 1796, 1922, 2048, 2174, 2300, 2426, 2552, 2678, 2804, 2930, 3056, 3182, 3308, 3434, 3560, 3686, 3812, 3938, 4064, 4190, 4316, 4442, 4568, 4694, 4820, 4946, \n",
      "---- New experiment with alpha=2.0 ----\n",
      "126, 463, 589, 715, 973, 1099, 1232, 1358, 1484, 1610, 1736, 1862, 1988, 2114, 2240, 2366, 2492, 2618, 2744, 2870, 2996, 3122, 3248, 3374, 3500, 3626, 3752, 3878, 4004, 4130, 4256, 4382, 4508, 4634, 4760, 4886, \n",
      "---- New experiment with alpha=2.0 ----\n",
      "287, 504, 813, 1180, 1306, 1432, 1558, 1684, 1810, 1936, 2062, 2188, 2314, 2440, 2566, 2692, 2818, 2944, 3070, 3196, 3322, 3448, 3574, 3700, 3826, 3952, 4078, 4204, 4330, 4456, 4582, 4708, 4834, 4960, \n",
      "---- New experiment with alpha=2.0 ----\n",
      "247, 651, 1003, 1129, 1255, 1381, 1507, 1633, 1759, 1885, 2011, 2137, 2263, 2389, 2515, 2641, 2767, 2893, 3019, 3145, 3271, 3397, 3523, 3649, 3775, 3901, 4027, 4153, 4279, 4405, 4531, 4657, 4783, 4909, \n",
      "---- New experiment with alpha=2.0 ----\n",
      "357, 748, 874, 1000, 1245, 1371, 1497, 1623, 1749, 1875, 2001, 2127, 2253, 2379, 2505, 2631, 2757, 2883, 3009, 3135, 3261, 3387, 3513, 3639, 3765, 3891, 4017, 4143, 4269, 4395, 4521, 4647, 4773, 4899, \n",
      "---- New experiment with alpha=2.0 ----\n",
      "126, 722, 972, 1098, 1227, 1353, 1479, 1605, 1731, 1857, 1983, 2109, 2235, 2361, 2487, 2613, 2739, 2865, 2991, 3117, 3243, 3369, 3495, 3621, 3747, 3873, 3999, 4125, 4251, 4377, 4503, 4629, 4755, 4881, \n",
      "---- New experiment with alpha=3.0 ----\n",
      "744, 1221, 1669, 1795, 1995, 2121, 2247, 2373, 2499, 2625, 2751, 2877, 3003, 3129, 3255, 3381, 3507, 3633, 3759, 3885, 4011, 4137, 4263, 4389, 4515, 4641, 4767, 4893, \n",
      "---- New experiment with alpha=3.0 ----\n",
      "433, 1227, 1460, 1586, 1712, 1838, 2003, 2129, 2255, 2381, 2507, 2633, 2759, 2885, 3011, 3137, 3263, 3389, 3515, 3641, 3767, 3893, 4019, 4145, 4271, 4397, 4523, 4649, 4775, 4901, \n",
      "---- New experiment with alpha=3.0 ----\n",
      "849, 1064, 1190, 1777, 1903, 2029, 2155, 2281, 2407, 2533, 2659, 2785, 2911, 3037, 3163, 3289, 3415, 3541, 3667, 3793, 3919, 4045, 4171, 4297, 4423, 4549, 4675, 4801, 4927, \n",
      "---- New experiment with alpha=3.0 ----\n",
      "516, 1010, 1136, 1262, 1388, 1623, 1778, 1904, 2030, 2156, 2282, 2408, 2534, 2660, 2786, 2912, 3038, 3164, 3290, 3416, 3542, 3668, 3794, 3920, 4046, 4172, 4298, 4424, 4550, 4676, 4802, 4928, \n",
      "---- New experiment with alpha=3.0 ----\n",
      "528, 1165, 1291, 1417, 1543, 1693, 1819, 1945, 2071, 2197, 2323, 2449, 2575, 2701, 2827, 2953, 3079, 3205, 3331, 3457, 3583, 3709, 3835, 3961, 4087, 4213, 4339, 4465, 4591, 4717, 4843, 4969, \n",
      "---- New experiment with alpha=3.0 ----\n",
      "450, 1036, 1242, 1769, 1895, 2021, 2147, 2273, 2399, 2525, 2651, 2777, 2903, 3029, 3155, 3281, 3407, 3533, 3659, 3785, 3911, 4037, 4163, 4289, 4415, 4541, 4667, 4793, 4919, \n",
      "---- New experiment with alpha=3.0 ----\n",
      "411, 828, 1399, 1525, 1651, 1777, 1903, 2029, 2155, 2289, 2415, 2541, 2667, 2793, 2919, 3045, 3171, 3297, 3423, 3549, 3675, 3801, 3927, 4053, 4179, 4305, 4431, 4557, 4683, 4809, 4935, \n",
      "---- New experiment with alpha=3.0 ----\n",
      "420, 963, 1089, 1530, 1656, 1782, 1908, 2034, 2160, 2286, 2412, 2538, 2664, 2790, 2916, 3042, 3168, 3294, 3420, 3546, 3672, 3798, 3924, 4050, 4176, 4302, 4428, 4554, 4680, 4806, 4932, \n",
      "---- New experiment with alpha=3.0 ----\n",
      "488, 1047, 1173, 1455, 1581, 1782, 1908, 2034, 2160, 2286, 2412, 2538, 2664, 2790, 2916, 3042, 3168, 3294, 3420, 3546, 3672, 3798, 3924, 4050, 4176, 4302, 4428, 4554, 4680, 4806, 4932, \n",
      "---- New experiment with alpha=3.0 ----\n",
      "126, 928, 1215, 1341, 1494, 1620, 1796, 1922, 2048, 2174, 2300, 2426, 2552, 2678, 2804, 2930, 3056, 3182, 3308, 3434, 3560, 3686, 3812, 3938, 4064, 4190, 4316, 4442, 4568, 4694, 4820, 4946, \n",
      "---- New experiment with alpha=4.0 ----\n",
      "1030, 1398, 1767, 2218, 2529, 2655, 2781, 2987, 3113, 3239, 3365, 3491, 3617, 3743, 3869, 3995, 4121, 4247, 4373, 4499, 4625, 4751, 4877, \n",
      "---- New experiment with alpha=4.0 ----\n",
      "495, 1041, 1240, 2166, 2292, 2478, 2604, 2730, 3070, 3196, 3322, 3448, 3574, 3700, 3826, 3952, 4078, 4204, 4330, 4456, 4582, 4708, 4834, 4960, \n",
      "---- New experiment with alpha=4.0 ----\n",
      "885, 1421, 1779, 2288, 2414, 2568, 2694, 2989, 3115, 3241, 3367, 3493, 3619, 3745, 3871, 3997, 4123, 4249, 4375, 4501, 4627, 4753, 4879, \n",
      "---- New experiment with alpha=4.0 ----\n",
      "893, 1593, 1719, 2253, 2379, 2538, 2664, 2790, 2980, 3106, 3232, 3358, 3484, 3610, 3736, 3862, 3988, 4114, 4240, 4366, 4492, 4618, 4744, 4870, 4996, \n",
      "---- New experiment with alpha=4.0 ----\n"
     ]
    },
    {
     "name": "stdout",
     "output_type": "stream",
     "text": [
      "817, 1202, 1814, 2041, 2167, 2408, 2534, 2660, 2786, 2912, 3038, 3164, 3290, 3416, 3542, 3668, 3794, 3920, 4046, 4172, 4298, 4424, 4550, 4676, 4802, 4928, \n",
      "---- New experiment with alpha=4.0 ----\n",
      "868, 1216, 1342, 2173, 2343, 2469, 2617, 2743, 2869, 2995, 3121, 3247, 3373, 3499, 3625, 3751, 3877, 4003, 4129, 4255, 4381, 4507, 4633, 4759, 4885, \n",
      "---- New experiment with alpha=4.0 ----\n",
      "719, 1106, 1651, 1937, 2301, 2427, 2553, 2679, 2850, 2976, 3102, 3228, 3354, 3480, 3606, 3732, 3858, 3984, 4110, 4236, 4362, 4488, 4614, 4740, 4866, 4992, \n",
      "---- New experiment with alpha=4.0 ----\n",
      "664, 1422, 1701, 2075, 2201, 2327, 2453, 2745, 2871, 2997, 3123, 3249, 3375, 3501, 3627, 3753, 3879, 4005, 4131, 4257, 4383, 4509, 4635, 4761, 4887, \n",
      "---- New experiment with alpha=4.0 ----\n",
      "979, 1416, 1887, 2184, 2426, 2552, 2678, 2804, 2930, 3056, 3182, 3308, 3434, 3560, 3686, 3812, 3938, 4064, 4190, 4316, 4442, 4568, 4694, 4820, 4946, \n",
      "---- New experiment with alpha=4.0 ----\n",
      "850, 1691, 1817, 2170, 2571, 2697, 2828, 2954, 3080, 3206, 3332, 3458, 3584, 3710, 3836, 3962, 4088, 4214, 4340, 4466, 4592, 4718, 4844, 4970, \n",
      "---- New experiment with alpha=5.0 ----\n",
      "699, 2210, 2443, 2814, 3054, 3324, 3450, 3576, 3722, 3848, 3974, 4100, 4226, 4352, 4478, 4604, 4730, 4856, 4982, \n",
      "---- New experiment with alpha=5.0 ----\n",
      "771, 1622, 2804, 3069, 3321, 3447, 3573, 3699, 3942, 4068, 4194, 4320, 4446, 4572, 4698, 4824, 4950, \n",
      "---- New experiment with alpha=5.0 ----\n",
      "857, 2338, 2562, 2989, 3115, 3352, 3478, 3604, 3730, 3856, 4151, 4277, 4403, 4529, 4655, 4781, 4907, \n",
      "---- New experiment with alpha=5.0 ----\n",
      "1009, 2202, 2328, 2829, 2955, 3241, 3367, 3536, 3741, 3885, 4011, 4137, 4263, 4389, 4515, 4641, 4767, 4893, \n",
      "---- New experiment with alpha=5.0 ----\n",
      "1226, 2030, 2355, 2535, 2661, 3322, 3448, 3574, 3700, 3826, 3952, 4078, 4204, 4330, 4456, 4582, 4708, 4834, 4960, \n",
      "---- New experiment with alpha=5.0 ----\n",
      "823, 1453, 2048, 2174, 2300, 2426, 3006, 3216, 3342, 3468, 3594, 3720, 3846, 3972, 4098, 4224, 4350, 4476, 4602, 4728, 4854, 4980, \n",
      "---- New experiment with alpha=5.0 ----\n",
      "1543, 2160, 2286, 2808, 2934, 3194, 3498, 3624, 3750, 3894, 4020, 4146, 4272, 4398, 4524, 4650, 4776, 4902, \n",
      "---- New experiment with alpha=5.0 ----\n",
      "1283, 2080, 2279, 2942, 3068, 3194, 3320, 3476, 3602, 3833, 3959, 4085, 4211, 4337, 4463, 4589, 4715, 4841, 4967, \n",
      "---- New experiment with alpha=5.0 ----\n",
      "1055, 1990, 2195, 2382, 2508, 2980, 3187, 3336, 3520, 3722, 3916, 4042, 4168, 4294, 4420, 4546, 4672, 4798, 4924, \n",
      "---- New experiment with alpha=5.0 ----\n",
      "988, 2143, 2269, 2395, 3050, 3176, 3302, 3477, 3603, 3729, 3855, 3981, 4107, 4360, 4486, 4612, 4738, 4864, 4990, \n",
      "---- New experiment with alpha=6.0 ----\n",
      "1558, 2431, 2609, 2810, 2936, 3175, 3906, 4058, 4184, 4310, 4487, 4613, 4739, 4865, 4991, \n",
      "---- New experiment with alpha=6.0 ----\n",
      "821, 1612, 2342, 2642, 3303, 3429, 3602, 3728, 3854, 3980, 4106, 4232, 4358, 4484, 4610, 4736, 4862, 4988, \n",
      "---- New experiment with alpha=6.0 ----\n",
      "1887, 2013, 3569, 3847, 3973, 4099, 4225, 4503, 4629, 4755, 4881, \n",
      "---- New experiment with alpha=6.0 ----\n",
      "1020, 2444, 2570, 3049, 3269, 3395, 3521, 3862, 3988, 4114, 4240, 4366, 4492, 4618, 4744, 4870, 4996, \n",
      "---- New experiment with alpha=6.0 ----\n",
      "1100, 2207, 2598, 2845, 3030, 3694, 3820, 3946, 4072, 4198, 4324, 4450, 4576, 4702, 4828, 4954, \n",
      "---- New experiment with alpha=6.0 ----\n",
      "1329, 2126, 2509, 3142, 3268, 3394, 3607, 3797, 3923, 4049, 4175, 4301, 4427, 4553, 4679, 4805, 4931, \n",
      "---- New experiment with alpha=6.0 ----\n",
      "1328, 2223, 3132, 3306, 3432, 3687, 3813, 3939, 4065, 4191, 4317, 4443, 4569, 4695, 4821, 4947, \n",
      "---- New experiment with alpha=6.0 ----\n",
      "1135, 2454, 2981, 3349, 3553, 3679, 3829, 3955, 4081, 4207, 4333, 4459, 4585, 4711, 4837, 4963, \n",
      "---- New experiment with alpha=6.0 ----\n",
      "989, 1996, 2122, 2674, 2800, 3155, 3495, 3621, 3747, 3873, 3999, 4125, 4251, 4377, 4503, 4629, 4755, 4881, \n",
      "---- New experiment with alpha=6.0 ----\n",
      "1224, 2120, 2604, 3154, 3583, 3709, 3835, 3961, 4087, 4213, 4383, 4509, 4635, 4761, 4887, \n",
      "---- New experiment with alpha=7.0 ----\n",
      "1349, 2490, 2985, 3197, 3437, 3563, 3826, 3952, 4078, 4204, 4330, 4456, 4582, 4708, 4834, 4960, \n",
      "---- New experiment with alpha=7.0 ----\n",
      "1281, 2990, 3422, 3579, 3705, 3831, 4064, 4190, 4316, 4442, 4568, 4694, 4820, 4946, \n",
      "---- New experiment with alpha=7.0 ----\n",
      "1776, 2966, 3357, 3483, 3609, 3735, 3861, 4024, 4150, 4276, 4402, 4528, 4654, 4780, 4906, \n",
      "---- New experiment with alpha=7.0 ----\n",
      "1185, 2417, 2885, 3011, 3173, 3392, 3518, 3644, 3770, 3896, 4022, 4148, 4274, 4400, 4526, 4652, 4778, 4904, \n",
      "---- New experiment with alpha=7.0 ----\n",
      "1601, 2760, 3008, 3274, 3580, 3706, 3907, 4033, 4183, 4309, 4435, 4561, 4687, 4813, 4939, \n",
      "---- New experiment with alpha=7.0 ----\n",
      "835, 1885, 3197, 3323, 3449, 3575, 3701, 3827, 3953, 4079, 4205, 4331, 4457, 4583, 4709, 4835, 4961, \n",
      "---- New experiment with alpha=7.0 ----\n",
      "1495, 2848, 3427, 3834, 3960, 4086, 4212, 4338, 4464, 4590, 4716, 4842, 4968, \n",
      "---- New experiment with alpha=7.0 ----\n",
      "1655, 2689, 3346, 3813, 4009, 4159, 4383, 4605, 4731, 4857, 4983, \n",
      "---- New experiment with alpha=7.0 ----\n",
      "2107, 3382, 3540, 3795, 3921, 4095, 4221, 4347, 4473, 4599, 4725, 4851, 4977, \n",
      "---- New experiment with alpha=7.0 ----\n",
      "1282, 3426, 3552, 3948, 4074, 4200, 4326, 4452, 4578, 4704, 4830, 4956, \n",
      "---- New experiment with alpha=8.0 ----\n",
      "2231, 3310, 3786, 3980, 4106, 4431, 4557, 4683, 4809, 4935, \n",
      "---- New experiment with alpha=8.0 ----\n",
      "2299, 3560, 3686, 3858, 4093, 4219, 4345, 4471, 4597, 4723, 4849, 4975, \n",
      "---- New experiment with alpha=8.0 ----\n",
      "1674, 2743, 3179, 3305, 3513, 3788, 3914, 4040, 4166, 4292, 4418, 4544, 4670, 4829, 4955, \n",
      "---- New experiment with alpha=8.0 ----\n",
      "1964, 2274, 3362, 3678, 3973, 4099, 4225, 4351, 4524, 4650, 4776, 4902, \n",
      "---- New experiment with alpha=8.0 ----\n",
      "1768, 3211, 3337, 3599, 3824, 3950, 4076, 4202, 4328, 4454, 4580, 4706, 4832, 4958, \n",
      "---- New experiment with alpha=8.0 ----\n",
      "1953, 2991, 3838, 3964, 4090, 4216, 4342, 4468, 4594, 4762, 4888, \n",
      "---- New experiment with alpha=8.0 ----\n",
      "1695, 3054, 3361, 3597, 3807, 4046, 4172, 4298, 4424, 4550, 4676, 4802, 4928, \n",
      "---- New experiment with alpha=8.0 ----\n",
      "2056, 3020, 3701, 3827, 4368, 4548, 4674, 4800, 4926, \n",
      "---- New experiment with alpha=8.0 ----\n",
      "1158, 3135, 3661, 3787, 4024, 4150, 4276, 4402, 4528, 4654, 4780, 4906, \n",
      "---- New experiment with alpha=8.0 ----\n",
      "1809, 3252, 3431, 3776, 3902, 4028, 4154, 4280, 4406, 4532, 4658, 4784, 4910, \n",
      "---- New experiment with alpha=9.0 ----\n",
      "2430, 2856, 3649, 4098, 4224, 4350, 4476, 4602, 4728, 4854, 4980, \n",
      "---- New experiment with alpha=9.0 ----\n",
      "1558, 3257, 3711, 3951, 4077, 4278, 4456, 4582, 4708, 4834, 4960, \n",
      "---- New experiment with alpha=9.0 ----\n",
      "1764, 3283, 3761, 3887, 4013, 4183, 4309, 4435, 4561, 4687, 4813, 4939, \n",
      "---- New experiment with alpha=9.0 ----\n",
      "2297, 3040, 4174, 4300, 4496, 4622, 4748, 4874, 5000, \n",
      "---- New experiment with alpha=9.0 ----\n",
      "1730, 2030, 3384, 3782, 3908, 4034, 4160, 4307, 4433, 4559, 4685, 4811, 4937, \n",
      "---- New experiment with alpha=9.0 ----\n",
      "2640, 4018, 4144, 4362, 4488, 4614, 4740, 4866, 4992, \n",
      "---- New experiment with alpha=9.0 ----\n",
      "2506, 3659, 4029, 4155, 4281, 4407, 4713, 4839, 4973, \n",
      "---- New experiment with alpha=9.0 ----\n",
      "1765, 3174, 3609, 3827, 3953, 4079, 4205, 4331, 4457, 4583, 4709, 4835, 4961, \n",
      "---- New experiment with alpha=9.0 ----\n",
      "2105, 3032, 3320, 4002, 4128, 4334, 4460, 4586, 4712, 4838, 4964, \n",
      "---- New experiment with alpha=9.0 ----\n",
      "2306, 3642, 3768, 3894, 4020, 4146, 4272, 4398, 4524, 4650, 4890, \n",
      "---- New experiment with alpha=10.0 ----\n",
      "2255, 3315, 3529, 3880, 4006, 4132, 4258, 4384, 4510, 4636, 4762, 4888, \n",
      "---- New experiment with alpha=10.0 ----\n",
      "2705, 3546, 3672, 4037, 4163, 4289, 4415, 4617, 4743, 4869, 4995, \n",
      "---- New experiment with alpha=10.0 ----\n",
      "2303, 3394, 3520, 3980, 4106, 4232, 4358, 4579, 4781, 4907, \n",
      "---- New experiment with alpha=10.0 ----\n",
      "2215, 3522, 3648, 3788, 3994, 4120, 4246, 4372, 4498, 4624, 4750, 4876, \n",
      "---- New experiment with alpha=10.0 ----\n",
      "2434, 3461, 3808, 4220, 4346, 4472, 4759, 4885, \n",
      "---- New experiment with alpha=10.0 ----\n",
      "1940, 3694, 3820, 3946, 4072, 4198, 4559, 4685, 4811, 4937, \n",
      "---- New experiment with alpha=10.0 ----\n",
      "2923, 3647, 4347, 4473, 4599, 4725, 4851, 4977, \n",
      "---- New experiment with alpha=10.0 ----\n"
     ]
    },
    {
     "name": "stdout",
     "output_type": "stream",
     "text": [
      "1689, 3789, 3915, 4041, 4167, 4293, 4419, 4545, 4671, 4797, 4923, \n",
      "---- New experiment with alpha=10.0 ----\n",
      "1995, 3896, 4022, 4148, 4274, 4400, 4526, 4652, 4778, 4904, \n",
      "---- New experiment with alpha=10.0 ----\n",
      "2557, 3597, 3868, 3994, 4120, 4246, 4372, 4609, 4735, 4861, 4987, "
     ]
    },
    {
     "data": {
      "text/plain": [
       "([0.2852,\n",
       "  0.13979999999999998,\n",
       "  0.040299999999999996,\n",
       "  0.0223,\n",
       "  0.0179,\n",
       "  0.013900000000000001,\n",
       "  0.012300000000000002,\n",
       "  0.011199999999999998,\n",
       "  0.009300000000000001,\n",
       "  0.008000000000000002],\n",
       " [0.020546532554180517,\n",
       "  0.022955609336282056,\n",
       "  0.012198770429842508,\n",
       "  0.0050999999999999995,\n",
       "  0.004459820624195552,\n",
       "  0.0021656407827707713,\n",
       "  0.0042438190347845895,\n",
       "  0.002891366458960192,\n",
       "  0.0029000000000000002,\n",
       "  0.0032863353450309964])"
      ]
     },
     "execution_count": 13,
     "metadata": {},
     "output_type": "execute_result"
    }
   ],
   "source": [
    "mean_list, std_list = exp_std_error()\n",
    "mean_list, std_list"
   ]
  },
  {
   "cell_type": "code",
   "execution_count": 24,
   "metadata": {},
   "outputs": [],
   "source": [
    "def exp_std_error2(number_experiments=10):\n",
    "    \n",
    "    mean_list = []\n",
    "    std_list = []\n",
    "    \n",
    "    for m in range(1, 1100, 100):\n",
    "    \n",
    "        error_m = []\n",
    "\n",
    "        for j in range(0,number_experiments):\n",
    "\n",
    "            #  drawing W and X\n",
    "            x0 = np.random.randint(low=0, high=2, size=n)*2-1 # A random array of -1 and +1\n",
    "            X = np.random.randint(low=0, high=2, size=n)*2-1 # A random array of -1 and +1 \n",
    "            W = np.random.normal(loc=0, scale=1, size=[m,n]) # W ~ N(0,1)\n",
    "\n",
    "            print()\n",
    "            print(\"---- New experiment with alpha={} ----\" .format( m/n))\n",
    "            found_X, errors, energies, betas = metropolis(W, X, x0, 0, beta0)\n",
    "\n",
    "            error_m.append(min(errors))\n",
    "\n",
    "        mean = np.mean(error_m)\n",
    "        std_dev = np.std(error_m)\n",
    "        \n",
    "        mean_list.append(mean)\n",
    "        std_list.append(std_dev)\n",
    "    \n",
    "    return mean_list, std_list"
   ]
  },
  {
   "cell_type": "code",
   "execution_count": 25,
   "metadata": {},
   "outputs": [
    {
     "name": "stdout",
     "output_type": "stream",
     "text": [
      "\n",
      "---- New experiment with alpha=0.001 ----\n",
      "126, 252, 378, 504, 630, 756, 882, 1008, 1134, 1260, 1386, 1512, 1638, 1764, 1890, 2016, 2142, 2268, 2394, 2520, 2646, 2772, 2898, 3024, 3150, 3276, 3402, 3528, 3654, 3780, 3906, 4032, 4158, 4284, 4410, 4536, 4662, 4788, 4914, \n",
      "---- New experiment with alpha=0.001 ----\n",
      "126, 252, 378, 504, 630, 756, 882, 1008, 1134, 1260, 1386, 1512, 1638, 1764, 1890, 2016, 2142, 2268, 2394, 2520, 2646, 2772, 2898, 3024, 3150, 3276, 3402, 3528, 3654, 3780, 3906, 4032, 4158, 4284, 4410, 4536, 4662, 4788, 4914, \n",
      "---- New experiment with alpha=0.001 ----\n",
      "126, 252, 378, 504, 630, 756, 882, 1008, 1134, 1260, 1386, 1512, 1638, 1764, 1890, 2016, 2142, 2268, 2394, 2520, 2646, 2772, 2898, 3024, 3150, 3276, 3402, 3528, 3654, 3780, 3906, 4032, 4158, 4284, 4410, 4536, 4662, 4788, 4914, \n",
      "---- New experiment with alpha=0.001 ----\n",
      "126, 252, 378, 504, 630, 756, 882, 1008, 1134, 1260, 1386, 1512, 1638, 1764, 1890, 2016, 2142, 2268, 2394, 2520, 2646, 2772, 2898, 3024, 3150, 3276, 3402, 3528, 3654, 3780, 3906, 4032, 4158, 4284, 4410, 4536, 4662, 4788, 4914, \n",
      "---- New experiment with alpha=0.001 ----\n",
      "126, 252, 378, 504, 630, 756, 882, 1008, 1134, 1260, 1386, 1512, 1638, 1764, 1890, 2016, 2142, 2268, 2394, 2520, 2646, 2772, 2898, 3024, 3150, 3276, 3402, 3528, 3654, 3780, 3906, 4032, 4158, 4284, 4410, 4536, 4662, 4788, 4914, \n",
      "---- New experiment with alpha=0.001 ----\n",
      "126, 252, 378, 504, 630, 756, 882, 1008, 1134, 1260, 1386, 1512, 1638, 1764, 1890, 2016, 2142, 2268, 2394, 2520, 2646, 2772, 2898, 3024, 3150, 3276, 3402, 3528, 3654, 3780, 3906, 4032, 4158, 4284, 4410, 4536, 4662, 4788, 4914, \n",
      "---- New experiment with alpha=0.001 ----\n",
      "126, 252, 378, 504, 630, 756, 882, 1008, 1134, 1260, 1386, 1512, 1638, 1764, 1890, 2016, 2142, 2268, 2394, 2520, 2646, 2772, 2898, 3024, 3150, 3276, 3402, 3528, 3654, 3780, 3906, 4032, 4158, 4284, 4410, 4536, 4662, 4788, 4914, \n",
      "---- New experiment with alpha=0.001 ----\n",
      "126, 252, 378, 504, 630, 756, 882, 1008, 1134, 1260, 1386, 1512, 1638, 1764, 1890, 2016, 2142, 2268, 2394, 2520, 2646, 2772, 2898, 3024, 3150, 3276, 3402, 3528, 3654, 3780, 3906, 4032, 4158, 4284, 4410, 4536, 4662, 4788, 4914, \n",
      "---- New experiment with alpha=0.001 ----\n",
      "126, 252, 378, 504, 630, 756, 882, 1008, 1134, 1260, 1386, 1512, 1638, 1764, 1890, 2016, 2142, 2268, 2394, 2520, 2646, 2772, 2898, 3024, 3150, 3276, 3402, 3528, 3654, 3780, 3906, 4032, 4158, 4284, 4410, 4536, 4662, 4788, 4914, \n",
      "---- New experiment with alpha=0.001 ----\n",
      "126, 252, 378, 504, 630, 756, 882, 1008, 1134, 1260, 1386, 1512, 1638, 1764, 1890, 2016, 2142, 2268, 2394, 2520, 2646, 2772, 2898, 3024, 3150, 3276, 3402, 3528, 3654, 3780, 3906, 4032, 4158, 4284, 4410, 4536, 4662, 4788, 4914, \n",
      "---- New experiment with alpha=0.101 ----\n",
      "126, 252, 378, 504, 630, 756, 882, 1008, 1134, 1260, 1386, 1512, 1638, 1764, 1890, 2016, 2142, 2268, 2394, 2520, 2646, 2772, 2898, 3024, 3150, 3276, 3402, 3528, 3654, 3780, 3906, 4032, 4158, 4284, 4410, 4536, 4662, 4788, 4914, \n",
      "---- New experiment with alpha=0.101 ----\n",
      "126, 252, 378, 504, 630, 756, 882, 1008, 1134, 1260, 1386, 1512, 1638, 1764, 1890, 2016, 2142, 2268, 2394, 2520, 2646, 2772, 2898, 3024, 3150, 3276, 3402, 3528, 3654, 3780, 3906, 4032, 4158, 4284, 4410, 4536, 4662, 4788, 4914, \n",
      "---- New experiment with alpha=0.101 ----\n",
      "126, 252, 378, 504, 630, 756, 882, 1008, 1134, 1260, 1386, 1512, 1638, 1764, 1890, 2016, 2142, 2268, 2394, 2520, 2646, 2772, 2898, 3024, 3150, 3276, 3402, 3528, 3654, 3780, 3906, 4032, 4158, 4284, 4410, 4536, 4662, 4788, 4914, \n",
      "---- New experiment with alpha=0.101 ----\n",
      "126, 252, 378, 504, 630, 756, 882, 1008, 1134, 1260, 1386, 1512, 1638, 1764, 1890, 2016, 2142, 2268, 2394, 2520, 2646, 2772, 2898, 3024, 3150, 3276, 3402, 3528, 3654, 3780, 3906, 4032, 4158, 4284, 4410, 4536, 4662, 4788, 4914, \n",
      "---- New experiment with alpha=0.101 ----\n",
      "126, 252, 378, 504, 630, 756, 882, 1008, 1134, 1260, 1386, 1512, 1638, 1764, 1890, 2016, 2142, 2268, 2394, 2520, 2646, 2772, 2898, 3024, 3150, 3276, 3402, 3528, 3654, 3780, 3906, 4032, 4158, 4284, 4410, 4536, 4662, 4788, 4914, \n",
      "---- New experiment with alpha=0.101 ----\n",
      "126, 252, 378, 504, 630, 756, 882, 1008, 1134, 1260, 1386, 1512, 1638, 1764, 1890, 2016, 2142, 2268, 2394, 2520, 2646, 2772, 2898, 3024, 3150, 3276, 3402, 3528, 3654, 3780, 3906, 4032, 4158, 4284, 4410, 4536, 4662, 4788, 4914, \n",
      "---- New experiment with alpha=0.101 ----\n",
      "126, 252, 378, 504, 630, 756, 882, 1008, 1134, 1260, 1386, 1512, 1638, 1764, 1890, 2016, 2142, 2268, 2394, 2520, 2646, 2772, 2898, 3024, 3150, 3276, 3402, 3528, 3654, 3780, 3906, 4032, 4158, 4284, 4410, 4536, 4662, 4788, 4914, \n",
      "---- New experiment with alpha=0.101 ----\n",
      "126, 252, 378, 504, 630, 756, 882, 1008, 1134, 1260, 1386, 1512, 1638, 1764, 1890, 2016, 2142, 2268, 2394, 2520, 2646, 2772, 2898, 3024, 3150, 3276, 3402, 3528, 3654, 3780, 3906, 4032, 4158, 4284, 4410, 4536, 4662, 4788, 4914, \n",
      "---- New experiment with alpha=0.101 ----\n",
      "126, 252, 378, 504, 630, 756, 882, 1008, 1134, 1260, 1386, 1512, 1638, 1764, 1890, 2016, 2142, 2268, 2394, 2520, 2646, 2772, 2898, 3024, 3150, 3276, 3402, 3528, 3654, 3780, 3906, 4032, 4158, 4284, 4410, 4536, 4662, 4788, 4914, \n",
      "---- New experiment with alpha=0.101 ----\n",
      "126, 252, 378, 504, 630, 756, 882, 1008, 1134, 1260, 1386, 1512, 1638, 1764, 1890, 2016, 2142, 2268, 2394, 2520, 2646, 2772, 2898, 3024, 3150, 3276, 3402, 3528, 3654, 3780, 3906, 4032, 4158, 4284, 4410, 4536, 4662, 4788, 4914, \n",
      "---- New experiment with alpha=0.201 ----\n",
      "126, 252, 378, 504, 630, 756, 882, 1008, 1134, 1260, 1386, 1512, 1638, 1764, 1890, 2016, 2142, 2268, 2394, 2520, 2646, 2772, 2898, 3024, 3150, 3276, 3402, 3528, 3654, 3780, 3906, 4032, 4158, 4284, 4410, 4536, 4662, 4788, 4914, \n",
      "---- New experiment with alpha=0.201 ----\n",
      "126, 252, 378, 504, 630, 756, 882, 1008, 1134, 1260, 1386, 1512, 1638, 1764, 1890, 2016, 2142, 2268, 2394, 2520, 2646, 2772, 2898, 3024, 3150, 3276, 3402, 3528, 3654, 3780, 3906, 4032, 4158, 4284, 4410, 4536, 4662, 4788, 4914, \n",
      "---- New experiment with alpha=0.201 ----\n",
      "126, 252, 378, 504, 630, 756, 882, 1008, 1134, 1260, 1386, 1512, 1638, 1764, 1890, 2016, 2142, 2268, 2394, 2520, 2646, 2772, 2898, 3024, 3150, 3276, 3402, 3528, 3654, 3780, 3906, 4032, 4158, 4284, 4410, 4536, 4662, 4788, 4914, \n",
      "---- New experiment with alpha=0.201 ----\n",
      "126, 252, 378, 504, 630, 756, 882, 1008, 1134, 1260, 1386, 1512, 1638, 1764, 1890, 2016, 2142, 2268, 2394, 2520, 2646, 2772, 2898, 3024, 3150, 3276, 3402, 3528, 3654, 3780, 3906, 4032, 4158, 4284, 4410, 4536, 4662, 4788, 4914, \n",
      "---- New experiment with alpha=0.201 ----\n",
      "126, 252, 378, 504, 630, 756, 882, 1008, 1134, 1260, 1386, 1512, 1638, 1764, 1890, 2016, 2142, 2268, 2394, 2520, 2646, 2772, 2898, 3024, 3150, 3276, 3402, 3528, 3654, 3780, 3906, 4032, 4158, 4284, 4410, 4536, 4662, 4788, 4914, \n",
      "---- New experiment with alpha=0.201 ----\n",
      "126, 252, 378, 504, 630, 756, 882, 1008, 1134, 1260, 1386, 1512, 1638, 1764, 1890, 2016, 2142, 2268, 2394, 2520, 2646, 2772, 2898, 3024, 3150, 3276, 3402, 3528, 3654, 3780, 3906, 4032, 4158, 4284, 4410, 4536, 4662, 4788, 4914, \n",
      "---- New experiment with alpha=0.201 ----\n",
      "126, 252, 378, 504, 630, 756, 882, 1008, 1134, 1260, 1386, 1512, 1638, 1764, 1890, 2016, 2142, 2268, 2394, 2520, 2646, 2772, 2898, 3024, 3150, 3276, 3402, 3528, 3654, 3780, 3906, 4032, 4158, 4284, 4410, 4536, 4662, 4788, 4914, \n",
      "---- New experiment with alpha=0.201 ----\n",
      "126, 252, 378, 504, 630, 756, 882, 1008, 1134, 1260, 1386, 1512, 1638, 1764, 1890, 2016, 2142, 2268, 2394, 2520, 2646, 2772, 2898, 3024, 3150, 3276, 3402, 3528, 3654, 3780, 3906, 4032, 4158, 4284, 4410, 4536, 4662, 4788, 4914, \n",
      "---- New experiment with alpha=0.201 ----\n",
      "126, 252, 378, 504, 630, 756, 882, 1008, 1134, 1260, 1386, 1512, 1638, 1764, 1890, 2016, 2142, 2268, 2394, 2520, 2646, 2772, 2898, 3024, 3150, 3276, 3402, 3528, 3654, 3780, 3906, 4032, 4158, 4284, 4410, 4536, 4662, 4788, 4914, \n",
      "---- New experiment with alpha=0.201 ----\n",
      "126, 252, 378, 504, 630, 756, 882, 1008, 1134, 1260, 1386, 1512, 1638, 1764, 1890, 2016, 2142, 2268, 2394, 2520, 2646, 2772, 2898, 3024, 3150, 3276, 3402, 3528, 3654, 3780, 3906, 4032, 4158, 4284, 4410, 4536, 4662, 4788, 4914, \n",
      "---- New experiment with alpha=0.301 ----\n"
     ]
    },
    {
     "name": "stdout",
     "output_type": "stream",
     "text": [
      "126, 252, 378, 504, 630, 756, 882, 1008, 1134, 1260, 1386, 1512, 1638, 1764, 1890, 2016, 2142, 2268, 2394, 2520, 2646, 2772, 2898, 3024, 3150, 3276, 3402, 3528, 3654, 3780, 3906, 4032, 4158, 4284, 4410, 4536, 4662, 4788, 4914, \n",
      "---- New experiment with alpha=0.301 ----\n",
      "126, 252, 378, 504, 630, 756, 882, 1008, 1134, 1260, 1386, 1512, 1638, 1764, 1890, 2016, 2142, 2268, 2394, 2520, 2646, 2772, 2898, 3024, 3150, 3276, 3402, 3528, 3654, 3780, 3906, 4032, 4158, 4284, 4410, 4536, 4662, 4788, 4914, \n",
      "---- New experiment with alpha=0.301 ----\n",
      "126, 252, 378, 504, 630, 756, 882, 1008, 1134, 1260, 1386, 1512, 1638, 1764, 1890, 2016, 2142, 2268, 2394, 2520, 2646, 2772, 2898, 3024, 3150, 3276, 3402, 3528, 3654, 3780, 3906, 4032, 4158, 4284, 4410, 4536, 4662, 4788, 4914, \n",
      "---- New experiment with alpha=0.301 ----\n",
      "126, 252, 378, 504, 630, 756, 882, 1008, 1134, 1260, 1386, 1512, 1638, 1764, 1890, 2016, 2142, 2268, 2394, 2520, 2646, 2772, 2898, 3024, 3150, 3276, 3402, 3528, 3654, 3780, 3906, 4032, 4158, 4284, 4410, 4536, 4662, 4788, 4914, \n",
      "---- New experiment with alpha=0.301 ----\n",
      "126, 252, 378, 504, 630, 756, 882, 1008, 1134, 1260, 1386, 1512, 1638, 1764, 1890, 2016, 2142, 2268, 2394, 2520, 2646, 2772, 2898, 3024, 3150, 3276, 3402, 3528, 3654, 3780, 3906, 4032, 4158, 4284, 4410, 4536, 4662, 4788, 4914, \n",
      "---- New experiment with alpha=0.301 ----\n",
      "126, 252, 378, 504, 630, 756, 882, 1008, 1134, 1260, 1386, 1512, 1638, 1764, 1890, 2016, 2142, 2268, 2394, 2520, 2646, 2772, 2898, 3024, 3150, 3276, 3402, 3528, 3654, 3780, 3906, 4032, 4158, 4284, 4410, 4536, 4662, 4788, 4914, \n",
      "---- New experiment with alpha=0.301 ----\n",
      "126, 252, 378, 504, 630, 756, 882, 1008, 1134, 1260, 1386, 1512, 1638, 1764, 1890, 2016, 2142, 2268, 2394, 2520, 2646, 2772, 2898, 3024, 3150, 3276, 3402, 3528, 3654, 3780, 3906, 4032, 4158, 4284, 4410, 4536, 4662, 4788, 4914, \n",
      "---- New experiment with alpha=0.301 ----\n",
      "126, 252, 378, 504, 630, 756, 882, 1008, 1134, 1260, 1386, 1512, 1638, 1764, 1890, 2016, 2142, 2268, 2394, 2520, 2646, 2772, 2898, 3024, 3150, 3276, 3402, 3528, 3654, 3780, 3906, 4032, 4158, 4284, 4410, 4536, 4662, 4788, 4914, \n",
      "---- New experiment with alpha=0.301 ----\n",
      "126, 252, 378, 504, 630, 756, 882, 1008, 1134, 1260, 1386, 1512, 1638, 1764, 1890, 2016, 2142, 2268, 2394, 2520, 2646, 2772, 2898, 3024, 3150, 3276, 3402, 3528, 3654, 3780, 3906, 4032, 4158, 4284, 4410, 4536, 4662, 4788, 4914, \n",
      "---- New experiment with alpha=0.301 ----\n",
      "126, 252, 378, 504, 630, 756, 882, 1008, 1134, 1260, 1386, 1512, 1638, 1764, 1890, 2016, 2142, 2268, 2394, 2520, 2646, 2772, 2898, 3024, 3150, 3276, 3402, 3528, 3654, 3780, 3906, 4032, 4158, 4284, 4410, 4536, 4662, 4788, 4914, \n",
      "---- New experiment with alpha=0.401 ----\n",
      "126, 252, 378, 504, 630, 756, 882, 1008, 1134, 1260, 1386, 1512, 1638, 1764, 1890, 2016, 2142, 2268, 2394, 2520, 2646, 2772, 2898, 3024, 3150, 3276, 3402, 3528, 3654, 3780, 3906, 4032, 4158, 4284, 4410, 4536, 4662, 4788, 4914, \n",
      "---- New experiment with alpha=0.401 ----\n",
      "126, 252, 378, 504, 630, 756, 882, 1008, 1134, 1260, 1386, 1512, 1638, 1764, 1890, 2016, 2142, 2268, 2394, 2520, 2646, 2772, 2898, 3024, 3150, 3276, 3402, 3528, 3654, 3780, 3906, 4032, 4158, 4284, 4410, 4536, 4662, 4788, 4914, \n",
      "---- New experiment with alpha=0.401 ----\n",
      "126, 252, 378, 504, 630, 756, 882, 1008, 1134, 1260, 1386, 1512, 1638, 1764, 1890, 2016, 2142, 2268, 2394, 2520, 2646, 2772, 2898, 3024, 3150, 3276, 3402, 3528, 3654, 3780, 3906, 4032, 4158, 4284, 4410, 4536, 4662, 4788, 4914, \n",
      "---- New experiment with alpha=0.401 ----\n",
      "126, 252, 378, 504, 630, 756, 882, 1008, 1134, 1260, 1386, 1512, 1638, 1764, 1890, 2016, 2142, 2268, 2394, 2520, 2646, 2772, 2898, 3024, 3150, 3276, 3402, 3528, 3654, 3780, 3906, 4032, 4158, 4284, 4410, 4536, 4662, 4788, 4914, \n",
      "---- New experiment with alpha=0.401 ----\n",
      "126, 252, 378, 504, 630, 756, 882, 1008, 1134, 1260, 1386, 1512, 1638, 1764, 1890, 2016, 2142, 2268, 2394, 2520, 2646, 2772, 2898, 3024, 3150, 3276, 3402, 3528, 3654, 3780, 3906, 4032, 4158, 4284, 4410, 4536, 4662, 4788, 4914, \n",
      "---- New experiment with alpha=0.401 ----\n",
      "126, 252, 378, 504, 630, 756, 882, 1008, 1134, 1260, 1386, 1512, 1638, 1764, 1890, 2016, 2142, 2268, 2394, 2520, 2646, 2772, 2898, 3024, 3150, 3276, 3402, 3528, 3654, 3780, 3906, 4032, 4158, 4284, 4410, 4536, 4662, 4788, 4914, \n",
      "---- New experiment with alpha=0.401 ----\n",
      "126, 252, 378, 504, 630, 756, 882, 1008, 1134, 1260, 1386, 1512, 1638, 1764, 1890, 2016, 2142, 2268, 2394, 2520, 2646, 2772, 2898, 3024, 3150, 3276, 3402, 3528, 3654, 3780, 3906, 4032, 4158, 4284, 4410, 4536, 4662, 4788, 4914, \n",
      "---- New experiment with alpha=0.401 ----\n",
      "126, 252, 378, 504, 630, 756, 882, 1008, 1134, 1260, 1386, 1512, 1638, 1764, 1890, 2016, 2142, 2268, 2394, 2520, 2646, 2772, 2898, 3024, 3150, 3276, 3402, 3528, 3654, 3780, 3906, 4032, 4158, 4284, 4410, 4536, 4662, 4788, 4914, \n",
      "---- New experiment with alpha=0.401 ----\n",
      "126, 252, 378, 504, 630, 756, 882, 1008, 1134, 1260, 1386, 1512, 1638, 1764, 1890, 2016, 2142, 2268, 2394, 2520, 2646, 2772, 2898, 3024, 3150, 3276, 3402, 3528, 3654, 3780, 3906, 4032, 4158, 4284, 4410, 4536, 4662, 4788, 4914, \n",
      "---- New experiment with alpha=0.401 ----\n",
      "126, 252, 378, 504, 630, 756, 882, 1008, 1134, 1260, 1386, 1512, 1638, 1764, 1890, 2016, 2142, 2268, 2394, 2520, 2646, 2772, 2898, 3024, 3150, 3276, 3402, 3528, 3654, 3780, 3906, 4032, 4158, 4284, 4410, 4536, 4662, 4788, 4914, \n",
      "---- New experiment with alpha=0.501 ----\n",
      "126, 252, 378, 504, 630, 756, 882, 1008, 1134, 1260, 1386, 1512, 1638, 1764, 1890, 2016, 2142, 2268, 2394, 2520, 2646, 2772, 2898, 3024, 3150, 3276, 3402, 3528, 3654, 3780, 3906, 4032, 4158, 4284, 4410, 4536, 4662, 4788, 4914, \n",
      "---- New experiment with alpha=0.501 ----\n",
      "126, 252, 378, 504, 630, 756, 882, 1008, 1134, 1260, 1386, 1512, 1638, 1764, 1890, 2016, 2142, 2268, 2394, 2520, 2646, 2772, 2898, 3024, 3150, 3276, 3402, 3528, 3654, 3780, 3906, 4032, 4158, 4284, 4410, 4536, 4662, 4788, 4914, \n",
      "---- New experiment with alpha=0.501 ----\n",
      "126, 252, 378, 504, 630, 756, 882, 1008, 1134, 1260, 1386, 1512, 1638, 1764, 1890, 2016, 2142, 2268, 2394, 2520, 2646, 2772, 2898, 3024, 3150, 3276, 3402, 3528, 3654, 3780, 3906, 4032, 4158, 4284, 4410, 4536, 4662, 4788, 4914, \n",
      "---- New experiment with alpha=0.501 ----\n",
      "126, 252, 378, 504, 630, 756, 882, 1008, 1134, 1260, 1386, 1512, 1638, 1764, 1890, 2016, 2142, 2268, 2394, 2520, 2646, 2772, 2898, 3024, 3150, 3276, 3402, 3528, 3654, 3780, 3906, 4032, 4158, 4284, 4410, 4536, 4662, 4788, 4914, \n",
      "---- New experiment with alpha=0.501 ----\n",
      "126, 252, 378, 504, 630, 756, 882, 1008, 1134, 1260, 1386, 1512, 1638, 1764, 1890, 2016, 2142, 2268, 2394, 2520, 2646, 2772, 2898, 3024, 3150, 3276, 3402, 3528, 3654, 3780, 3906, 4032, 4158, 4284, 4410, 4536, 4662, 4788, 4914, \n",
      "---- New experiment with alpha=0.501 ----\n",
      "126, 252, 378, 504, 630, 756, 882, 1008, 1134, 1260, 1386, 1512, 1638, 1764, 1890, 2016, 2142, 2268, 2394, 2520, 2646, 2772, 2898, 3024, 3150, 3276, 3402, 3528, 3654, 3780, 3906, 4032, 4158, 4284, 4410, 4536, 4662, 4788, 4914, \n",
      "---- New experiment with alpha=0.501 ----\n",
      "126, 252, 378, 504, 630, 756, 882, 1008, 1134, 1260, 1386, 1512, 1638, 1764, 1890, 2016, 2142, 2268, 2394, 2520, 2646, 2772, 2898, 3024, 3150, 3276, 3402, 3528, 3654, 3780, 3906, 4032, 4158, 4284, 4410, 4536, 4662, 4788, 4914, \n",
      "---- New experiment with alpha=0.501 ----\n",
      "126, 252, 378, 504, 630, 756, 882, 1008, 1134, 1260, 1386, 1512, 1638, 1764, 1890, 2016, 2142, 2268, 2394, 2520, 2646, 2772, 2898, 3024, 3150, 3276, 3402, 3528, 3654, 3780, 3906, 4032, 4158, 4284, 4410, 4536, 4662, 4788, 4914, \n",
      "---- New experiment with alpha=0.501 ----\n",
      "126, 252, 378, 504, 630, 756, 882, 1008, 1134, 1260, 1386, 1512, 1638, 1764, 1890, 2016, 2142, 2268, 2394, 2520, 2646, 2772, 2898, 3024, 3150, 3276, 3402, 3528, 3654, 3780, 3906, 4032, 4158, 4284, 4410, 4536, 4662, 4788, 4914, \n",
      "---- New experiment with alpha=0.501 ----\n",
      "126, 252, 378, 504, 630, 756, 882, 1008, 1134, 1260, 1386, 1512, 1638, 1764, 1890, 2016, 2142, 2268, 2394, 2520, 2646, 2772, 2898, 3024, 3150, 3276, 3402, 3528, 3654, 3780, 3906, 4032, 4158, 4284, 4410, 4536, 4662, 4788, 4914, \n",
      "---- New experiment with alpha=0.601 ----\n"
     ]
    },
    {
     "name": "stdout",
     "output_type": "stream",
     "text": [
      "126, 252, 378, 504, 630, 756, 882, 1008, 1134, 1260, 1386, 1512, 1638, 1764, 1890, 2016, 2142, 2268, 2394, 2520, 2646, 2772, 2898, 3024, 3150, 3276, 3402, 3528, 3654, 3780, 3906, 4032, 4158, 4284, 4410, 4536, 4662, 4788, 4914, \n",
      "---- New experiment with alpha=0.601 ----\n",
      "126, 252, 378, 504, 630, 756, 882, 1008, 1134, 1260, 1386, 1512, 1638, 1764, 1890, 2016, 2142, 2268, 2394, 2520, 2646, 2772, 2898, 3024, 3150, 3276, 3402, 3528, 3654, 3780, 3906, 4032, 4158, 4284, 4410, 4536, 4662, 4788, 4914, \n",
      "---- New experiment with alpha=0.601 ----\n",
      "126, 252, 378, 504, 630, 756, 882, 1008, 1134, 1260, 1386, 1512, 1638, 1764, 1890, 2016, 2142, 2268, 2394, 2520, 2646, 2772, 2898, 3024, 3150, 3276, 3402, 3528, 3654, 3780, 3906, 4032, 4158, 4284, 4410, 4536, 4662, 4788, 4914, \n",
      "---- New experiment with alpha=0.601 ----\n",
      "126, 252, 378, 504, 630, 756, 882, 1008, 1134, 1260, 1386, 1512, 1638, 1764, 1890, 2016, 2142, 2268, 2394, 2520, 2646, 2772, 2898, 3024, 3150, 3276, 3402, 3528, 3654, 3780, 3906, 4032, 4158, 4284, 4410, 4536, 4662, 4788, 4914, \n",
      "---- New experiment with alpha=0.601 ----\n",
      "126, 252, 378, 504, 630, 756, 882, 1008, 1134, 1260, 1386, 1512, 1638, 1764, 1890, 2016, 2142, 2268, 2394, 2520, 2646, 2772, 2898, 3024, 3150, 3276, 3402, 3528, 3654, 3780, 3906, 4032, 4158, 4284, 4410, 4536, 4662, 4788, 4914, \n",
      "---- New experiment with alpha=0.601 ----\n",
      "126, 252, 378, 504, 630, 756, 882, 1008, 1134, 1260, 1386, 1512, 1638, 1764, 1890, 2016, 2142, 2268, 2394, 2520, 2646, 2772, 2898, 3024, 3150, 3276, 3402, 3528, 3654, 3780, 3906, 4032, 4158, 4284, 4410, 4536, 4662, 4788, 4914, \n",
      "---- New experiment with alpha=0.601 ----\n",
      "126, 252, 378, 504, 630, 756, 882, 1008, 1134, 1260, 1386, 1512, 1638, 1764, 1890, 2016, 2142, 2268, 2394, 2520, 2646, 2772, 2898, 3024, 3150, 3276, 3402, 3528, 3654, 3780, 3906, 4032, 4158, 4284, 4410, 4536, 4662, 4788, 4914, \n",
      "---- New experiment with alpha=0.601 ----\n",
      "126, 252, 378, 504, 630, 756, 882, 1008, 1134, 1260, 1386, 1512, 1638, 1764, 1890, 2016, 2142, 2268, 2394, 2520, 2646, 2772, 2898, 3024, 3150, 3276, 3402, 3528, 3654, 3780, 3906, 4032, 4158, 4284, 4410, 4536, 4662, 4788, 4914, \n",
      "---- New experiment with alpha=0.601 ----\n",
      "126, 252, 378, 504, 630, 756, 882, 1008, 1134, 1260, 1386, 1512, 1638, 1764, 1890, 2016, 2142, 2268, 2394, 2520, 2646, 2772, 2898, 3024, 3150, 3276, 3402, 3528, 3654, 3780, 3906, 4032, 4158, 4284, 4410, 4536, 4662, 4788, 4914, \n",
      "---- New experiment with alpha=0.601 ----\n",
      "126, 252, 378, 504, 630, 756, 882, 1008, 1134, 1260, 1386, 1512, 1638, 1764, 1890, 2016, 2142, 2268, 2394, 2520, 2646, 2772, 2898, 3024, 3150, 3276, 3402, 3528, 3654, 3780, 3906, 4032, 4158, 4284, 4410, 4536, 4662, 4788, 4914, \n",
      "---- New experiment with alpha=0.701 ----\n",
      "126, 252, 378, 504, 630, 756, 882, 1008, 1134, 1260, 1386, 1512, 1638, 1764, 1890, 2016, 2142, 2268, 2394, 2520, 2646, 2772, 2898, 3024, 3150, 3276, 3402, 3528, 3654, 3780, 3906, 4032, 4158, 4284, 4410, 4536, 4662, 4788, 4914, \n",
      "---- New experiment with alpha=0.701 ----\n",
      "126, 252, 378, 504, 630, 756, 882, 1008, 1134, 1260, 1386, 1512, 1638, 1764, 1890, 2016, 2142, 2268, 2394, 2520, 2646, 2772, 2898, 3024, 3150, 3276, 3402, 3528, 3654, 3780, 3906, 4032, 4158, 4284, 4410, 4536, 4662, 4788, 4914, \n",
      "---- New experiment with alpha=0.701 ----\n",
      "126, 252, 378, 504, 630, 756, 882, 1008, 1134, 1260, 1386, 1512, 1638, 1764, 1890, 2016, 2142, 2268, 2394, 2520, 2646, 2772, 2898, 3024, 3150, 3276, 3402, 3528, 3654, 3780, 3906, 4032, 4158, 4284, 4410, 4536, 4662, 4788, 4914, \n",
      "---- New experiment with alpha=0.701 ----\n",
      "126, 300, 426, 552, 678, 804, 930, 1056, 1182, 1308, 1434, 1560, 1686, 1812, 1938, 2064, 2190, 2316, 2442, 2568, 2694, 2820, 2946, 3072, 3198, 3324, 3450, 3576, 3702, 3828, 3954, 4080, 4206, 4332, 4458, 4584, 4710, 4836, 4962, \n",
      "---- New experiment with alpha=0.701 ----\n",
      "126, 252, 378, 504, 630, 756, 882, 1008, 1134, 1260, 1386, 1512, 1638, 1764, 1890, 2016, 2142, 2268, 2394, 2520, 2646, 2772, 2898, 3024, 3150, 3276, 3402, 3528, 3654, 3780, 3906, 4032, 4158, 4284, 4410, 4536, 4662, 4788, 4914, \n",
      "---- New experiment with alpha=0.701 ----\n",
      "126, 252, 378, 504, 630, 756, 882, 1008, 1134, 1260, 1386, 1512, 1638, 1764, 1890, 2016, 2142, 2268, 2394, 2520, 2646, 2772, 2898, 3024, 3150, 3276, 3402, 3528, 3654, 3780, 3906, 4032, 4158, 4284, 4410, 4536, 4662, 4788, 4914, \n",
      "---- New experiment with alpha=0.701 ----\n",
      "126, 252, 378, 504, 630, 756, 882, 1008, 1134, 1260, 1386, 1512, 1638, 1764, 1890, 2016, 2142, 2268, 2394, 2520, 2646, 2772, 2898, 3024, 3150, 3276, 3402, 3528, 3654, 3780, 3906, 4032, 4158, 4284, 4410, 4536, 4662, 4788, 4914, \n",
      "---- New experiment with alpha=0.701 ----\n",
      "126, 252, 378, 504, 630, 756, 882, 1008, 1134, 1260, 1386, 1512, 1638, 1764, 1890, 2016, 2142, 2268, 2394, 2520, 2646, 2772, 2898, 3024, 3150, 3276, 3402, 3528, 3654, 3780, 3906, 4032, 4158, 4284, 4410, 4536, 4662, 4788, 4914, \n",
      "---- New experiment with alpha=0.701 ----\n",
      "126, 261, 387, 513, 639, 765, 891, 1017, 1143, 1269, 1395, 1521, 1647, 1773, 1899, 2025, 2151, 2277, 2403, 2529, 2655, 2781, 2907, 3033, 3159, 3285, 3411, 3537, 3663, 3789, 3915, 4041, 4167, 4293, 4419, 4545, 4671, 4797, 4923, \n",
      "---- New experiment with alpha=0.701 ----\n",
      "126, 252, 378, 504, 677, 803, 929, 1055, 1181, 1307, 1433, 1559, 1685, 1811, 1937, 2063, 2189, 2315, 2441, 2567, 2693, 2819, 2945, 3071, 3197, 3323, 3449, 3575, 3701, 3827, 3953, 4079, 4205, 4331, 4457, 4583, 4709, 4835, 4961, \n",
      "---- New experiment with alpha=0.801 ----\n",
      "126, 252, 378, 504, 630, 756, 882, 1008, 1134, 1260, 1386, 1512, 1638, 1764, 1890, 2016, 2142, 2268, 2394, 2520, 2646, 2772, 2898, 3024, 3150, 3276, 3402, 3528, 3654, 3780, 3906, 4032, 4158, 4284, 4410, 4536, 4662, 4788, 4914, \n",
      "---- New experiment with alpha=0.801 ----\n",
      "126, 343, 482, 608, 734, 860, 986, 1112, 1238, 1364, 1490, 1616, 1742, 1868, 1994, 2120, 2246, 2372, 2498, 2624, 2750, 2876, 3002, 3128, 3254, 3380, 3506, 3632, 3758, 3884, 4010, 4136, 4262, 4388, 4514, 4640, 4766, 4892, \n",
      "---- New experiment with alpha=0.801 ----\n",
      "126, 257, 383, 509, 635, 761, 887, 1013, 1139, 1265, 1391, 1517, 1643, 1769, 1895, 2021, 2147, 2273, 2399, 2525, 2651, 2777, 2903, 3029, 3155, 3281, 3407, 3533, 3659, 3785, 3911, 4037, 4163, 4289, 4415, 4541, 4667, 4793, 4919, \n",
      "---- New experiment with alpha=0.801 ----\n",
      "126, 252, 378, 504, 630, 756, 882, 1008, 1134, 1260, 1386, 1512, 1638, 1764, 1890, 2016, 2142, 2268, 2394, 2520, 2646, 2772, 2898, 3024, 3150, 3276, 3402, 3528, 3654, 3780, 3906, 4032, 4158, 4284, 4410, 4536, 4662, 4788, 4914, \n",
      "---- New experiment with alpha=0.801 ----\n",
      "126, 252, 378, 504, 630, 756, 882, 1008, 1134, 1260, 1386, 1512, 1638, 1764, 1890, 2016, 2142, 2268, 2394, 2520, 2646, 2772, 2898, 3024, 3150, 3276, 3402, 3528, 3654, 3780, 3906, 4032, 4158, 4284, 4410, 4536, 4662, 4788, 4914, \n",
      "---- New experiment with alpha=0.801 ----\n",
      "126, 252, 378, 538, 664, 790, 916, 1042, 1168, 1294, 1420, 1546, 1672, 1798, 1924, 2050, 2176, 2302, 2428, 2554, 2680, 2806, 2932, 3058, 3184, 3310, 3436, 3562, 3688, 3814, 3940, 4066, 4192, 4318, 4444, 4570, 4696, 4822, 4948, \n",
      "---- New experiment with alpha=0.801 ----\n",
      "126, 325, 451, 577, 703, 829, 955, 1081, 1207, 1333, 1459, 1585, 1711, 1837, 1963, 2089, 2215, 2341, 2467, 2593, 2719, 2845, 2971, 3097, 3223, 3349, 3475, 3601, 3727, 3853, 3979, 4105, 4231, 4357, 4483, 4609, 4735, 4861, 4987, \n",
      "---- New experiment with alpha=0.801 ----\n",
      "126, 252, 378, 504, 630, 756, 882, 1008, 1134, 1260, 1386, 1512, 1638, 1764, 1890, 2016, 2142, 2268, 2394, 2520, 2646, 2772, 2898, 3024, 3150, 3276, 3402, 3528, 3654, 3780, 3906, 4032, 4158, 4284, 4410, 4536, 4662, 4788, 4914, \n",
      "---- New experiment with alpha=0.801 ----\n",
      "126, 252, 378, 504, 630, 756, 882, 1008, 1134, 1260, 1386, 1512, 1638, 1764, 1890, 2016, 2142, 2268, 2394, 2520, 2646, 2772, 2898, 3024, 3150, 3276, 3402, 3528, 3654, 3780, 3906, 4032, 4158, 4284, 4410, 4536, 4662, 4788, 4914, \n",
      "---- New experiment with alpha=0.801 ----\n",
      "126, 298, 424, 550, 676, 802, 928, 1054, 1180, 1306, 1432, 1558, 1684, 1810, 1936, 2062, 2188, 2314, 2440, 2566, 2692, 2818, 2944, 3070, 3196, 3322, 3448, 3574, 3700, 3826, 3952, 4078, 4204, 4330, 4456, 4582, 4708, 4834, 4960, \n",
      "---- New experiment with alpha=0.901 ----\n"
     ]
    },
    {
     "name": "stdout",
     "output_type": "stream",
     "text": [
      "235, 361, 508, 634, 760, 886, 1012, 1138, 1264, 1390, 1516, 1642, 1768, 1894, 2020, 2146, 2272, 2398, 2524, 2650, 2776, 2902, 3028, 3154, 3280, 3406, 3532, 3658, 3784, 3910, 4036, 4162, 4288, 4414, 4540, 4666, 4792, 4918, \n",
      "---- New experiment with alpha=0.901 ----\n",
      "126, 252, 378, 504, 630, 756, 882, 1008, 1134, 1260, 1386, 1512, 1638, 1764, 1890, 2016, 2142, 2268, 2394, 2520, 2646, 2772, 2898, 3024, 3150, 3276, 3402, 3528, 3654, 3780, 3906, 4032, 4158, 4284, 4410, 4536, 4662, 4788, 4914, \n",
      "---- New experiment with alpha=0.901 ----\n",
      "126, 357, 483, 609, 766, 892, 1018, 1144, 1270, 1396, 1522, 1648, 1774, 1900, 2026, 2152, 2278, 2404, 2530, 2656, 2782, 2908, 3034, 3160, 3286, 3412, 3538, 3664, 3790, 3916, 4042, 4168, 4294, 4420, 4546, 4672, 4798, 4924, \n",
      "---- New experiment with alpha=0.901 ----\n",
      "126, 252, 378, 504, 630, 756, 882, 1008, 1134, 1260, 1386, 1512, 1638, 1764, 1890, 2016, 2142, 2268, 2394, 2520, 2646, 2772, 2898, 3024, 3150, 3276, 3402, 3528, 3654, 3780, 3906, 4032, 4158, 4284, 4410, 4536, 4662, 4788, 4914, \n",
      "---- New experiment with alpha=0.901 ----\n",
      "126, 299, 459, 585, 711, 837, 963, 1089, 1215, 1341, 1467, 1593, 1719, 1845, 1971, 2097, 2223, 2349, 2475, 2601, 2727, 2853, 2979, 3105, 3231, 3357, 3483, 3609, 3735, 3861, 3987, 4113, 4239, 4365, 4491, 4617, 4743, 4869, 4995, \n",
      "---- New experiment with alpha=0.901 ----\n",
      "126, 314, 440, 566, 692, 818, 944, 1070, 1196, 1322, 1448, 1574, 1700, 1826, 1952, 2078, 2204, 2330, 2456, 2582, 2708, 2834, 2960, 3086, 3212, 3338, 3464, 3590, 3716, 3842, 3968, 4094, 4220, 4346, 4472, 4598, 4724, 4850, 4976, \n",
      "---- New experiment with alpha=0.901 ----\n",
      "126, 252, 426, 552, 678, 804, 930, 1056, 1182, 1308, 1434, 1560, 1686, 1812, 1938, 2064, 2190, 2316, 2442, 2568, 2694, 2820, 2946, 3072, 3198, 3324, 3450, 3576, 3702, 3828, 3954, 4080, 4206, 4332, 4458, 4584, 4710, 4836, 4962, \n",
      "---- New experiment with alpha=0.901 ----\n",
      "126, 252, 485, 611, 737, 863, 989, 1115, 1241, 1367, 1493, 1619, 1745, 1871, 1997, 2123, 2249, 2375, 2501, 2627, 2753, 2879, 3005, 3131, 3257, 3383, 3509, 3635, 3761, 3887, 4013, 4139, 4265, 4391, 4517, 4643, 4769, 4895, \n",
      "---- New experiment with alpha=0.901 ----\n",
      "126, 252, 378, 504, 630, 756, 882, 1008, 1134, 1260, 1386, 1512, 1638, 1764, 1890, 2016, 2142, 2268, 2394, 2520, 2646, 2772, 2898, 3024, 3150, 3276, 3402, 3528, 3654, 3780, 3906, 4032, 4158, 4284, 4410, 4536, 4662, 4788, 4914, \n",
      "---- New experiment with alpha=0.901 ----\n",
      "126, 252, 411, 537, 663, 789, 915, 1041, 1167, 1293, 1419, 1545, 1671, 1797, 1923, 2049, 2175, 2301, 2427, 2553, 2679, 2805, 2931, 3057, 3183, 3309, 3435, 3561, 3687, 3813, 3939, 4065, 4191, 4317, 4443, 4569, 4695, 4821, 4947, \n",
      "---- New experiment with alpha=1.001 ----\n",
      "126, 252, 378, 504, 630, 756, 882, 1008, 1134, 1260, 1386, 1512, 1638, 1764, 1890, 2016, 2142, 2268, 2394, 2520, 2646, 2772, 2898, 3024, 3150, 3276, 3402, 3528, 3654, 3780, 3906, 4032, 4158, 4284, 4410, 4536, 4662, 4788, 4914, \n",
      "---- New experiment with alpha=1.001 ----\n",
      "126, 273, 399, 553, 679, 805, 931, 1057, 1183, 1309, 1435, 1561, 1687, 1813, 1939, 2065, 2191, 2317, 2443, 2569, 2695, 2821, 2947, 3073, 3199, 3325, 3451, 3577, 3703, 3829, 3955, 4081, 4207, 4333, 4459, 4585, 4711, 4837, 4963, \n",
      "---- New experiment with alpha=1.001 ----\n",
      "126, 252, 378, 504, 630, 756, 882, 1008, 1134, 1260, 1386, 1512, 1638, 1764, 1890, 2016, 2142, 2268, 2394, 2520, 2646, 2772, 2898, 3024, 3150, 3276, 3402, 3528, 3654, 3780, 3906, 4032, 4158, 4284, 4410, 4536, 4662, 4788, 4914, \n",
      "---- New experiment with alpha=1.001 ----\n",
      "126, 252, 402, 618, 744, 870, 996, 1122, 1248, 1374, 1500, 1626, 1752, 1878, 2004, 2130, 2256, 2382, 2508, 2634, 2760, 2886, 3012, 3138, 3264, 3390, 3516, 3642, 3768, 3894, 4020, 4146, 4272, 4398, 4524, 4650, 4776, 4902, \n",
      "---- New experiment with alpha=1.001 ----\n",
      "126, 345, 471, 597, 723, 849, 975, 1101, 1227, 1353, 1479, 1605, 1731, 1857, 1983, 2109, 2235, 2361, 2487, 2613, 2739, 2865, 2991, 3117, 3243, 3369, 3495, 3621, 3747, 3873, 3999, 4125, 4251, 4377, 4503, 4629, 4755, 4881, \n",
      "---- New experiment with alpha=1.001 ----\n",
      "126, 252, 467, 593, 719, 845, 971, 1097, 1223, 1349, 1475, 1601, 1727, 1853, 1979, 2105, 2231, 2357, 2483, 2609, 2735, 2861, 2987, 3113, 3239, 3365, 3491, 3617, 3743, 3869, 3995, 4121, 4247, 4373, 4499, 4625, 4751, 4877, \n",
      "---- New experiment with alpha=1.001 ----\n",
      "126, 254, 453, 579, 705, 831, 957, 1083, 1209, 1335, 1461, 1587, 1713, 1839, 1965, 2091, 2217, 2343, 2469, 2595, 2721, 2847, 2973, 3099, 3225, 3351, 3477, 3603, 3729, 3855, 3981, 4107, 4233, 4359, 4485, 4611, 4737, 4863, 4989, \n",
      "---- New experiment with alpha=1.001 ----\n",
      "126, 318, 444, 570, 696, 822, 948, 1074, 1200, 1326, 1452, 1578, 1704, 1830, 1956, 2082, 2208, 2334, 2460, 2586, 2712, 2838, 2964, 3090, 3216, 3342, 3468, 3594, 3720, 3846, 3972, 4098, 4224, 4350, 4476, 4602, 4728, 4854, 4980, \n",
      "---- New experiment with alpha=1.001 ----\n",
      "126, 286, 412, 538, 664, 790, 916, 1042, 1168, 1294, 1420, 1546, 1672, 1798, 1924, 2050, 2176, 2302, 2428, 2554, 2680, 2806, 2932, 3058, 3184, 3310, 3436, 3562, 3688, 3814, 3940, 4066, 4192, 4318, 4444, 4570, 4696, 4822, 4948, \n",
      "---- New experiment with alpha=1.001 ----\n",
      "126, 252, 447, 573, 699, 825, 951, 1077, 1203, 1329, 1455, 1581, 1707, 1833, 1959, 2085, 2211, 2337, 2463, 2589, 2715, 2841, 2967, 3093, 3219, 3345, 3471, 3597, 3723, 3849, 3975, 4101, 4227, 4353, 4479, 4605, 4731, 4857, 4983, "
     ]
    },
    {
     "data": {
      "text/plain": [
       "([0.4659,\n",
       "  0.4495,\n",
       "  0.41719999999999996,\n",
       "  0.3976,\n",
       "  0.38570000000000004,\n",
       "  0.3548,\n",
       "  0.33720000000000006,\n",
       "  0.333,\n",
       "  0.30629999999999996,\n",
       "  0.296,\n",
       "  0.2793],\n",
       " [0.012533554962579442,\n",
       "  0.009457801012920507,\n",
       "  0.00616116872029975,\n",
       "  0.01195156893466292,\n",
       "  0.019375499993548557,\n",
       "  0.009019977827023747,\n",
       "  0.016779749700159406,\n",
       "  0.011506519890914012,\n",
       "  0.017515992692394004,\n",
       "  0.017487138130637615,\n",
       "  0.015931415505221116])"
      ]
     },
     "execution_count": 25,
     "metadata": {},
     "output_type": "execute_result"
    }
   ],
   "source": [
    "mean_list_inf1, std_list_inf1 = exp_std_error2()\n",
    "mean_list_inf1, std_list_inf1"
   ]
  },
  {
   "cell_type": "code",
   "execution_count": 28,
   "metadata": {},
   "outputs": [],
   "source": [
    "mean_list_tot = mean_list_inf1[:-1] + mean_list\n",
    "std_list_tot = std_list_inf1[:-1] + std_list"
   ]
  },
  {
   "cell_type": "code",
   "execution_count": 48,
   "metadata": {},
   "outputs": [
    {
     "name": "stdout",
     "output_type": "stream",
     "text": [
      "[0.4659, 0.4495, 0.41719999999999996, 0.3976, 0.38570000000000004, 0.3548, 0.33720000000000006, 0.333, 0.30629999999999996, 0.296, 0.2852, 0.13979999999999998, 0.040299999999999996, 0.0223, 0.0179, 0.013900000000000001, 0.012300000000000002, 0.011199999999999998, 0.009300000000000001, 0.008000000000000002]\n"
     ]
    },
    {
     "data": {
      "image/png": "[encoded data removed]",
      "text/plain": [
       "<Figure size 432x288 with 2 Axes>"
      ]
     },
     "metadata": {},
     "output_type": "display_data"
    }
   ],
   "source": [
    "fig, ax1 = plt.subplots()\n",
    "\n",
    "s1 = mean_list_tot\n",
    "range1 = np.linspace(0.001, 0.901, 10).tolist() + list(range(1,1+len(mean_list)))\n",
    "print(s1)\n",
    "ax1.plot(range1,s1, 'b')\n",
    "ax1.set_xlabel('alpha')\n",
    "\n",
    "ax1.set_ylabel('mean', color='b')\n",
    "\n",
    "ax2 = ax1.twinx()\n",
    "s2 = std_list_tot\n",
    "ax2.plot(range1, s2, 'r')\n",
    "ax2.set_ylabel('standard deviation', color='r')\n",
    "\n",
    "\n",
    "\n",
    "fig.tight_layout()\n",
    "plt.show()"
   ]
  },
  {
   "cell_type": "code",
   "execution_count": null,
   "metadata": {
    "collapsed": true
   },
   "outputs": [],
   "source": []
  }
 ],
 "metadata": {
  "kernelspec": {
   "display_name": "Python 3",
   "language": "python",
   "name": "python3"
  },
  "language_info": {
   "codemirror_mode": {
    "name": "ipython",
    "version": 3
   },
   "file_extension": ".py",
   "mimetype": "text/x-python",
   "name": "python",
   "nbconvert_exporter": "python",
   "pygments_lexer": "ipython3",
   "version": "3.6.5"
  }
 },
 "nbformat": 4,
 "nbformat_minor": 2
}
