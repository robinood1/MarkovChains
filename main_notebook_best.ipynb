{
 "cells": [
  {
   "cell_type": "markdown",
   "metadata": {},
   "source": [
    "<h1><center>Markov Chains Project</center></h1>\n",
    "<h2><center>Team JLRCactus</center></h2>"
   ]
  },
  {
   "cell_type": "markdown",
   "metadata": {},
   "source": [
    "## Imports ##"
   ]
  },
  {
   "cell_type": "code",
   "execution_count": 1,
   "metadata": {
    "collapsed": true
   },
   "outputs": [],
   "source": [
    "import numpy as np\n",
    "import matplotlib.pyplot as plt\n",
    "import sys as sys"
   ]
  },
  {
   "cell_type": "markdown",
   "metadata": {},
   "source": [
    "## Main ##"
   ]
  },
  {
   "cell_type": "markdown",
   "metadata": {},
   "source": [
    "### Variables ###"
   ]
  },
  {
   "cell_type": "code",
   "execution_count": 23,
   "metadata": {
    "collapsed": true
   },
   "outputs": [],
   "source": [
    "# Values of dimensions n and m\n",
    "n = 1000\n",
    "m = 8000\n",
    "# Initial random vector\n",
    "x0 = np.random.randint(low=0, high=2, size=n)*2-1 # A random array of -1 and +1\n",
    "\n",
    "# To be found vector\n",
    "X = np.random.randint(low=0, high=2, size=n)*2-1 # A random array of -1 and +1 \n",
    "\n",
    "# Known matrix W\n",
    "W = np.random.normal(loc=0, scale=1, size=[m,n]) # W ~ N(0,1)\n",
    "\n",
    "beta0=0.1\n"
   ]
  },
  {
   "cell_type": "markdown",
   "metadata": {},
   "source": [
    "### Run ###"
   ]
  },
  {
   "cell_type": "markdown",
   "metadata": {},
   "source": [
    "## Tools ##"
   ]
  },
  {
   "cell_type": "code",
   "execution_count": 3,
   "metadata": {
    "collapsed": true
   },
   "outputs": [],
   "source": [
    "def ReLU(x) :\n",
    "    return x * (x > 0)"
   ]
  },
  {
   "cell_type": "code",
   "execution_count": 4,
   "metadata": {
    "collapsed": true
   },
   "outputs": [],
   "source": [
    "def compute_Y(W, X) :\n",
    "    n = W.shape[1]\n",
    "    return ReLU((W @ X)/np.sqrt(n))"
   ]
  },
  {
   "cell_type": "code",
   "execution_count": 5,
   "metadata": {
    "collapsed": true
   },
   "outputs": [],
   "source": [
    "def compute_H(W, x, Y) :\n",
    "    diff = Y - compute_Y(W, x)\n",
    "    return diff.T.dot(diff)"
   ]
  },
  {
   "cell_type": "code",
   "execution_count": 6,
   "metadata": {
    "collapsed": true
   },
   "outputs": [],
   "source": [
    "def random_flip(x) :\n",
    "    i = np.random.randint(low=0, high=len(x))\n",
    "    new_x = x.copy()\n",
    "    new_x[i] = -new_x[i]\n",
    "    return new_x"
   ]
  },
  {
   "cell_type": "code",
   "execution_count": 7,
   "metadata": {
    "collapsed": true
   },
   "outputs": [],
   "source": [
    "def accept(W, x0, x1, beta, Y) :\n",
    "    return min(1, np.exp(-beta*( compute_H(W, x1, Y) - compute_H(W, x0, Y) )))"
   ]
  },
  {
   "cell_type": "code",
   "execution_count": 8,
   "metadata": {
    "collapsed": true
   },
   "outputs": [],
   "source": [
    "def rec_error(x0, X, n):\n",
    "    n = len(X)\n",
    "    return (x0-X).T.dot(x0-X) / (4*n)"
   ]
  },
  {
   "cell_type": "markdown",
   "metadata": {},
   "source": [
    "## Metropolis Algorithm ##"
   ]
  },
  {
   "cell_type": "code",
   "execution_count": 49,
   "metadata": {
    "collapsed": true
   },
   "outputs": [],
   "source": [
    "def metropolis(W, X, x0, threshold, beta0) :\n",
    "    \n",
    "    e = sys.maxsize\n",
    "    beta = beta0\n",
    "    Y_true = compute_Y(W, X)\n",
    "    n = len(X)\n",
    "    errors = []\n",
    "    energies = []\n",
    "    betas = []\n",
    "    i = 0\n",
    "    nbre_iter= 3000\n",
    "    from_last_beta = 0\n",
    "    beta_augm =0.2\n",
    "    treshold = nbre_iter/40\n",
    "    while e > threshold and i < nbre_iter: \n",
    "        i +=1\n",
    "        from_last_beta += 1\n",
    "        \n",
    "        x1 = random_flip(x0)\n",
    "        a = accept(W, x0, x1, beta, Y_true)\n",
    "        \n",
    "        if a >= np.random.uniform() : # Swap with prob metropolis\n",
    "            x0 = x1\n",
    "        \n",
    "        if (from_last_beta> treshold and np.std(energies[-200:]) < m/285.7):\n",
    "            print(i, end=', ')\n",
    "            beta += beta_augm\n",
    "            from_last_beta = 0\n",
    "        energies.append(compute_H(W, x0, Y_true))        \n",
    "        e = rec_error(x0, X, n)\n",
    "        errors.append(e)      \n",
    "        betas.append(beta)\n",
    "        \n",
    "    return x0, errors, energies, betas"
   ]
  },
  {
   "cell_type": "code",
   "execution_count": 25,
   "metadata": {},
   "outputs": [
    {
     "name": "stdout",
     "output_type": "stream",
     "text": [
      "805\n",
      "2663\n",
      "2739\n"
     ]
    }
   ],
   "source": [
    "found_X, errors, energies, betas = metropolis(W, X, x0, 0, beta0)"
   ]
  },
  {
   "cell_type": "code",
   "execution_count": 26,
   "metadata": {},
   "outputs": [
    {
     "data": {
      "image/png": "[encoded data removed]",
      "text/plain": [
       "<matplotlib.figure.Figure at 0x24c8fa2b630>"
      ]
     },
     "metadata": {},
     "output_type": "display_data"
    }
   ],
   "source": [
    "fig, ax1 = plt.subplots()\n",
    "\n",
    "s1 = energies\n",
    "ax1.plot(s1, 'b')\n",
    "ax1.set_xlabel('iter')\n",
    "\n",
    "ax1.set_ylabel('energies', color='b')\n",
    "\n",
    "ax2 = ax1.twinx()\n",
    "s2 = betas\n",
    "ax2.plot(s2, 'r')\n",
    "ax2.set_ylabel('betas', color='r')\n",
    "\n",
    "fig.tight_layout()\n",
    "plt.show()"
   ]
  },
  {
   "cell_type": "code",
   "execution_count": 27,
   "metadata": {},
   "outputs": [
    {
     "data": {
      "text/plain": [
       "0.7"
      ]
     },
     "execution_count": 27,
     "metadata": {},
     "output_type": "execute_result"
    }
   ],
   "source": [
    "betas[-1]"
   ]
  },
  {
   "cell_type": "code",
   "execution_count": 28,
   "metadata": {
    "scrolled": true
   },
   "outputs": [
    {
     "data": {
      "text/plain": [
       "0.083000000000000004"
      ]
     },
     "execution_count": 28,
     "metadata": {},
     "output_type": "execute_result"
    }
   ],
   "source": [
    "min(errors)"
   ]
  },
  {
   "cell_type": "code",
   "execution_count": 29,
   "metadata": {
    "scrolled": true
   },
   "outputs": [
    {
     "data": {
      "image/png": "[encoded data removed]",
      "text/plain": [
       "<matplotlib.figure.Figure at 0x24c8f98d630>"
      ]
     },
     "metadata": {},
     "output_type": "display_data"
    }
   ],
   "source": [
    "plt.plot(errors)\n",
    "plt.show()"
   ]
  },
  {
   "cell_type": "code",
   "execution_count": 30,
   "metadata": {},
   "outputs": [
    {
     "data": {
      "text/plain": [
       "83"
      ]
     },
     "execution_count": 30,
     "metadata": {},
     "output_type": "execute_result"
    }
   ],
   "source": [
    "(found_X != X).sum()"
   ]
  },
  {
   "cell_type": "markdown",
   "metadata": {},
   "source": [
    "## Find expected value and std dev ##"
   ]
  },
  {
   "cell_type": "code",
   "execution_count": 50,
   "metadata": {},
   "outputs": [],
   "source": [
    "def exp_std_error(number_experiments=10):\n",
    "    \n",
    "    mean_list = []\n",
    "    std_list = []\n",
    "    \n",
    "    for m in range(1000, 11000, 1000):\n",
    "    \n",
    "        error_m = []\n",
    "\n",
    "        for j in range(0,number_experiments):\n",
    "\n",
    "            #  drawing W and X\n",
    "            x0 = np.random.randint(low=0, high=2, size=n)*2-1 # A random array of -1 and +1\n",
    "            X = np.random.randint(low=0, high=2, size=n)*2-1 # A random array of -1 and +1 \n",
    "            W = np.random.normal(loc=0, scale=1, size=[m,n]) # W ~ N(0,1)\n",
    "\n",
    "            print()\n",
    "            print(\"---- New experiment with alpha=%s ----\" % m/n)\n",
    "            found_X, errors, energies, betas = metropolis(W, X, x0, 0, beta0)\n",
    "\n",
    "            error_m.append(min(errors))\n",
    "\n",
    "        mean = np.mean(error_m)\n",
    "        std_dev = np.std(error_m)\n",
    "        \n",
    "        mean_list.append(mean)\n",
    "        std_list.append(std_dev)\n",
    "    \n",
    "    return mean_list, std_list"
   ]
  },
  {
   "cell_type": "code",
   "execution_count": 48,
   "metadata": {},
   "outputs": [
    {
     "name": "stdout",
     "output_type": "stream",
     "text": [
      "\n",
      "---- New experiment with m=1000 ----\n",
      "76 152 379 455 531 636 712 788 864 940 1016 1092 1168 1244 1320 1396 1472 1548 1624 1700 1776 1852 1928 2004 2080 2156 2232 2308 2384 2460 2536 2612 2688 2764 2840 2916 2992 \n",
      "---- New experiment with m=1000 ----\n",
      "76 152 228 304 380 456 532 608 684 787 863 939 1015 1091 1167 1243 1319 1395 1471 1547 1623 1699 1775 1851 1927 2003 2079 2155 2231 2307 2383 2459 2535 2611 2687 2763 2839 2915 2991 \n",
      "---- New experiment with m=1000 ----\n",
      "76 152 349 425 501 577 653 729 805 881 957 1033 1109 1185 1261 1337 1413 1489 1565 1641 1717 1793 1869 1945 2021 2097 2173 2249 2325 2401 2477 2553 2629 2705 2781 2857 2933 \n",
      "---- New experiment with m=1000 ----\n",
      "76 152 228 401 477 553 629 705 781 857 933 1009 1085 1161 1237 1313 1389 1465 1541 1617 1693 1769 1845 1921 1997 2073 2149 2225 2301 2377 2453 2529 2605 2681 2757 2833 2909 2985 \n",
      "---- New experiment with m=1000 ----\n",
      "76 152 341 417 493 569 645 721 797 873 949 1025 1101 1177 1253 1329 1405 1481 1557 1633 1709 1785 1861 1937 2013 2089 2165 2241 2317 2393 2469 2545 2621 2697 2773 2849 2925 \n",
      "---- New experiment with m=1000 ----\n",
      "76 152 228 304 458 534 610 686 762 838 914 990 1066 1142 1218 1294 1370 1446 1522 1598 1674 1750 1826 1902 1978 2054 2130 2206 2282 2358 2434 2510 2586 2662 2738 2814 2890 2966 \n",
      "---- New experiment with m=1000 ----\n",
      "76 152 318 394 470 583 659 735 811 887 963 1039 1115 1191 1267 1343 1419 1495 1571 1647 1723 1799 1875 1951 2027 2103 2179 2255 2331 2407 2483 2559 2635 2711 2787 2863 2939 \n",
      "---- New experiment with m=1000 ----\n",
      "76 152 466 542 618 694 770 846 922 998 1074 1150 1226 1302 1378 1454 1530 1606 1682 1758 1834 1910 1986 2062 2138 2214 2290 2366 2442 2518 2594 2670 2746 2822 2898 2974 \n",
      "---- New experiment with m=1000 ----\n",
      "76 152 228 304 510 586 662 738 814 890 966 1042 1118 1194 1270 1346 1422 1498 1574 1650 1726 1802 1878 1954 2030 2106 2182 2258 2334 2410 2486 2562 2638 2714 2790 2866 2942 \n",
      "---- New experiment with m=1000 ----\n",
      "76 152 246 531 607 683 759 835 911 987 1063 1139 1215 1291 1367 1443 1519 1595 1671 1747 1823 1899 1975 2051 2127 2203 2279 2355 2431 2507 2583 2659 2735 2811 2887 2963 \n",
      "---- New experiment with m=2000 ----\n",
      "76 287 571 647 723 1055 1131 1207 1283 1359 1435 1511 1587 1663 1739 1815 1891 1967 2043 2119 2195 2271 2347 2423 2499 2575 2651 2727 2803 2879 2955 \n",
      "---- New experiment with m=2000 ----\n",
      "76 512 588 925 1001 1172 1373 1449 1525 1601 1677 1753 1829 1905 1981 2057 2133 2209 2285 2361 2437 2513 2589 2665 2741 2817 2893 2969 \n",
      "---- New experiment with m=2000 ----\n",
      "76 152 746 822 898 1164 1240 1316 1392 1468 1544 1620 1696 1772 1848 1924 2000 2076 2152 2228 2304 2380 2456 2532 2608 2684 2760 2836 2912 2988 \n",
      "---- New experiment with m=2000 ----\n",
      "76 428 728 838 914 990 1066 1242 1318 1394 1470 1546 1622 1698 1774 1850 1926 2002 2078 2154 2230 2306 2382 2458 2534 2610 2686 2762 2838 2914 2990 \n",
      "---- New experiment with m=2000 ----\n",
      "76 152 655 731 807 993 1069 1145 1221 1297 1373 1449 1525 1601 1677 1753 1829 1905 1981 2057 2133 2209 2285 2361 2437 2513 2589 2665 2741 2817 2893 2969 \n",
      "---- New experiment with m=2000 ----\n",
      "76 710 786 1009 1309 1385 1461 1537 1613 1689 1765 1841 1917 1993 2069 2145 2221 2297 2373 2449 2525 2601 2677 2753 2829 2905 2981 \n",
      "---- New experiment with m=2000 ----\n",
      "76 152 719 795 871 968 1044 1120 1196 1272 1348 1424 1500 1576 1652 1728 1804 1880 1956 2032 2108 2184 2260 2336 2412 2488 2564 2640 2716 2792 2868 2944 \n",
      "---- New experiment with m=2000 ----\n",
      "76 351 427 716 792 868 944 1127 1203 1279 1355 1431 1507 1583 1659 1735 1811 1887 1963 2039 2115 2191 2267 2343 2419 2495 2571 2647 2723 2799 2875 2951 \n",
      "---- New experiment with m=2000 ----\n",
      "343 419 966 1042 1118 1194 1270 1346 1422 1498 1574 1650 1726 1802 1878 1954 2030 2106 2182 2258 2334 2410 2486 2562 2638 2714 2790 2866 2942 \n",
      "---- New experiment with m=2000 ----\n",
      "223 681 757 1062 1138 1214 1290 1366 1442 1518 1594 1670 1746 1822 1898 1974 2050 2126 2202 2278 2354 2430 2506 2582 2658 2734 2810 2886 2962 \n",
      "---- New experiment with m=3000 ----\n",
      "414 490 962 1038 1365 1441 1590 1666 1742 1872 1948 2024 2100 2176 2252 2328 2404 2480 2556 2632 2708 2784 2860 2936 \n",
      "---- New experiment with m=3000 ----\n",
      "509 585 1122 1198 1502 1578 1654 1730 1864 1940 2016 2092 2168 2244 2333 2409 2485 2561 2637 2713 2789 2865 2941 \n",
      "---- New experiment with m=3000 ----\n",
      "76 526 952 1028 1465 1541 1617 1693 1769 1845 2113 2189 2265 2341 2417 2493 2569 2645 2721 2797 2873 2949 \n",
      "---- New experiment with m=3000 ----\n",
      "76 615 691 1358 1434 1510 1586 1715 1791 1867 1943 2019 2095 2171 2247 2323 2399 2475 2551 2627 2703 2779 2855 2931 \n",
      "---- New experiment with m=3000 ----\n",
      "76 152 875 1385 1461 1537 1613 1689 1765 1849 1925 2001 2077 2153 2229 2305 2392 2468 2544 2620 2696 2772 2848 2924 3000 \n",
      "---- New experiment with m=3000 ----\n",
      "76 973 1049 1462 1538 1614 1690 1797 1873 1949 2269 2345 2421 2497 2573 2649 2725 2801 2877 2953 \n",
      "---- New experiment with m=3000 ----\n",
      "76 648 724 1315 1585 1894 1970 2105 2181 2257 2333 2409 2485 2561 2637 2713 2789 2865 2941 \n",
      "---- New experiment with m=3000 ----\n",
      "76 445 1257 1333 1409 1485 1561 1637 1758 1834 1910 1986 2062 2138 2214 2290 2366 2442 2518 2594 2670 2746 2822 2898 2974 \n",
      "---- New experiment with m=3000 ----\n",
      "76 152 1102 1178 1590 1666 1799 1875 1951 2027 2103 2179 2255 2331 2407 2483 2559 2635 2711 2787 2863 2939 \n",
      "---- New experiment with m=3000 ----\n",
      "76 1028 1104 1399 1475 1626 1702 1778 1975 2051 2127 2203 2279 2355 2431 2507 2583 2659 2735 2811 2887 2963 \n",
      "---- New experiment with m=4000 ----\n",
      "76 886 962 1957 2301 2377 2533 2609 2685 2761 2960 \n",
      "---- New experiment with m=4000 ----\n",
      "464 1183 1787 1863 2009 2085 2161 2435 2511 2587 2802 2878 2954 \n",
      "---- New experiment with m=4000 ----\n",
      "76 1091 1167 1777 1853 2046 2122 2198 2274 2350 2426 2502 2578 2654 2730 2806 2882 2958 \n",
      "---- New experiment with m=4000 ----\n",
      "275 1225 1301 1508 2139 2215 2601 2677 2753 2829 2905 2981 \n",
      "---- New experiment with m=4000 ----\n",
      "76 1026 1866 2252 2328 2404 2571 2647 2723 2799 2875 2951 \n",
      "---- New experiment with m=4000 ----\n",
      "76 1269 1608 1684 2299 2396 2472 2689 2765 2841 2997 \n",
      "---- New experiment with m=4000 ----\n",
      "491 1137 1802 2183 2259 2394 2470 2732 2808 2884 2960 \n",
      "---- New experiment with m=4000 ----\n",
      "744 1380 1456 1978 2054 2396 2472 2548 2716 2792 2868 2944 \n",
      "---- New experiment with m=4000 ----\n",
      "633 1408 1484 2086 2454 2530 2659 2735 2881 2957 \n",
      "---- New experiment with m=4000 ----\n",
      "492 1217 1808 2124 2200 2399 2475 2676 2752 2828 2904 2980 \n",
      "---- New experiment with m=5000 ----\n",
      "412 488 1391 2267 2343 2500 2576 2652 2872 2978 \n",
      "---- New experiment with m=5000 ----\n",
      "647 1749 1825 2668 2744 2865 2941 \n",
      "---- New experiment with m=5000 ----\n",
      "563 1726 1803 2358 2434 \n",
      "---- New experiment with m=5000 ----\n",
      "76 829 1453 2186 2516 2592 2668 2744 2820 2896 \n",
      "---- New experiment with m=5000 ----\n",
      "625 2184 2260 2614 2690 2766 \n",
      "---- New experiment with m=5000 ----\n",
      "76 1751 1827 2518 2799 2875 2951 \n",
      "---- New experiment with m=5000 ----\n",
      "617 1996 2072 2609 2685 2802 \n",
      "---- New experiment with m=5000 ----\n",
      "468 1512 1588 2306 2382 2659 2871 2947 \n",
      "---- New experiment with m=5000 ----\n",
      "559 1525 2336 2849 2925 \n",
      "---- New experiment with m=5000 ----\n",
      "909 1946 \n",
      "---- New experiment with m=6000 ----\n",
      "672 2193 2269 \n",
      "---- New experiment with m=6000 ----\n",
      "785 2364 2440 \n",
      "---- New experiment with m=6000 ----\n",
      "1175 2218 2294 \n",
      "---- New experiment with m=6000 ----\n",
      "1162 2454 2530 \n",
      "---- New experiment with m=6000 ----\n",
      "472 1718 2469 2724 \n",
      "---- New experiment with m=6000 ----\n",
      "1141 2736 2812 \n",
      "---- New experiment with m=6000 ----\n",
      "643 1919 2491 \n",
      "---- New experiment with m=6000 ----\n",
      "623 2041 2775 2851 \n",
      "---- New experiment with m=6000 ----\n",
      "736 1932 2008 \n",
      "---- New experiment with m=6000 ----\n",
      "1207 2209 2746 \n",
      "---- New experiment with m=7000 ----\n",
      "813 2190 2812 2888 \n",
      "---- New experiment with m=7000 ----\n",
      "1261 2285 \n",
      "---- New experiment with m=7000 ----\n",
      "1228 2779 \n",
      "---- New experiment with m=7000 ----\n",
      "706 2815 2891 2967 \n",
      "---- New experiment with m=7000 ----\n",
      "1011 2239 2797 \n",
      "---- New experiment with m=7000 ----\n",
      "76 2023 2773 \n",
      "---- New experiment with m=7000 ----\n",
      "1041 1914 \n",
      "---- New experiment with m=7000 ----\n",
      "1042 2625 2701 \n",
      "---- New experiment with m=7000 ----\n",
      "832 2225 2301 \n",
      "---- New experiment with m=7000 ----\n",
      "822 2402 2929 \n",
      "---- New experiment with m=8000 ----\n"
     ]
    },
    {
     "name": "stdout",
     "output_type": "stream",
     "text": [
      "1050 2607 \n",
      "---- New experiment with m=8000 ----\n",
      "845 2492 \n",
      "---- New experiment with m=8000 ----\n",
      "76 2478 \n",
      "---- New experiment with m=8000 ----\n",
      "772 2220 \n",
      "---- New experiment with m=8000 ----\n",
      "1099 2848 2924 3000 \n",
      "---- New experiment with m=8000 ----\n",
      "1186 \n",
      "---- New experiment with m=8000 ----\n",
      "770 1631 \n",
      "---- New experiment with m=8000 ----\n",
      "1641 \n",
      "---- New experiment with m=8000 ----\n",
      "869 2351 2427 \n",
      "---- New experiment with m=8000 ----\n",
      "1030 2632 \n",
      "---- New experiment with m=9000 ----\n",
      "954 \n",
      "---- New experiment with m=9000 ----\n",
      "556 \n",
      "---- New experiment with m=9000 ----\n",
      "925 \n",
      "---- New experiment with m=9000 ----\n",
      "1208 2904 2980 \n",
      "---- New experiment with m=9000 ----\n",
      "573 2789 2865 \n",
      "---- New experiment with m=9000 ----\n",
      "2124 \n",
      "---- New experiment with m=9000 ----\n",
      "991 \n",
      "---- New experiment with m=9000 ----\n",
      "1037 2606 \n",
      "---- New experiment with m=9000 ----\n",
      "1350 \n",
      "---- New experiment with m=9000 ----\n",
      "1703 \n",
      "---- New experiment with m=10000 ----\n",
      "1987 \n",
      "---- New experiment with m=10000 ----\n",
      "2267 \n",
      "---- New experiment with m=10000 ----\n",
      "1778 \n",
      "---- New experiment with m=10000 ----\n",
      "1306 2788 \n",
      "---- New experiment with m=10000 ----\n",
      "2374 \n",
      "---- New experiment with m=10000 ----\n",
      "2086 \n",
      "---- New experiment with m=10000 ----\n",
      "951 \n",
      "---- New experiment with m=10000 ----\n",
      "2055 \n",
      "---- New experiment with m=10000 ----\n",
      "1419 \n",
      "---- New experiment with m=10000 ----\n",
      "1478 "
     ]
    },
    {
     "data": {
      "text/plain": [
       "([0.30470000000000003,\n",
       "  0.21200000000000002,\n",
       "  0.14769999999999997,\n",
       "  0.13669999999999999,\n",
       "  0.11199999999999999,\n",
       "  0.11360000000000001,\n",
       "  0.1008,\n",
       "  0.089499999999999996,\n",
       "  0.090400000000000008,\n",
       "  0.11000000000000001],\n",
       " [0.019667485858644976,\n",
       "  0.016303373883954204,\n",
       "  0.022194819215303373,\n",
       "  0.015408114745159445,\n",
       "  0.020287927444665215,\n",
       "  0.017516849031718008,\n",
       "  0.011805083650698964,\n",
       "  0.021171915359740133,\n",
       "  0.029776500801806782,\n",
       "  0.030590848304680927])"
      ]
     },
     "execution_count": 48,
     "metadata": {},
     "output_type": "execute_result"
    }
   ],
   "source": [
    "mean_list, std_list = exp_std_error()\n",
    "mean_list, std_list"
   ]
  },
  {
   "cell_type": "code",
   "execution_count": 51,
   "metadata": {},
   "outputs": [
    {
     "data": {
      "image/png": "[encoded data removed]",
      "text/plain": [
       "<matplotlib.figure.Figure at 0x24c8f8f1048>"
      ]
     },
     "metadata": {},
     "output_type": "display_data"
    }
   ],
   "source": [
    "fig, ax1 = plt.subplots()\n",
    "\n",
    "s1 = mean_list\n",
    "ax1.plot(s1, 'b')\n",
    "ax1.set_xlabel('alpha')\n",
    "\n",
    "ax1.set_ylabel('mean', color='b')\n",
    "\n",
    "ax2 = ax1.twinx()\n",
    "s2 = std_list\n",
    "ax2.plot(s2, 'r')\n",
    "ax2.set_ylabel('standard deviation', color='r')\n",
    "\n",
    "fig.tight_layout()\n",
    "plt.show()"
   ]
  },
  {
   "cell_type": "code",
   "execution_count": null,
   "metadata": {
    "collapsed": true
   },
   "outputs": [],
   "source": []
  }
 ],
 "metadata": {
  "kernelspec": {
   "display_name": "Python 3",
   "language": "python",
   "name": "python3"
  },
  "language_info": {
   "codemirror_mode": {
    "name": "ipython",
    "version": 3
   },
   "file_extension": ".py",
   "mimetype": "text/x-python",
   "name": "python",
   "nbconvert_exporter": "python",
   "pygments_lexer": "ipython3",
   "version": "3.6.3"
  }
 },
 "nbformat": 4,
 "nbformat_minor": 2
}
